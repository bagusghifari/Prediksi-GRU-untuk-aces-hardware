{
  "nbformat": 4,
  "nbformat_minor": 0,
  "metadata": {
    "colab": {
      "provenance": []
    },
    "kernelspec": {
      "name": "python3",
      "display_name": "Python 3"
    },
    "language_info": {
      "name": "python"
    },
    "widgets": {
      "application/vnd.jupyter.widget-state+json": {
        "1862f4cc9c1742c29effd1a36ac9511f": {
          "model_module": "@jupyter-widgets/controls",
          "model_name": "HBoxModel",
          "model_module_version": "1.5.0",
          "state": {
            "_dom_classes": [],
            "_model_module": "@jupyter-widgets/controls",
            "_model_module_version": "1.5.0",
            "_model_name": "HBoxModel",
            "_view_count": null,
            "_view_module": "@jupyter-widgets/controls",
            "_view_module_version": "1.5.0",
            "_view_name": "HBoxView",
            "box_style": "",
            "children": [
              "IPY_MODEL_07ea9546f08a495581ff82009bacbb94",
              "IPY_MODEL_1342fd92f0744ad19e2aa305dca53ae7",
              "IPY_MODEL_961fda2e8bc945a385f3af6aa094df4c"
            ],
            "layout": "IPY_MODEL_98e4d3bccce845649474f58fca69a61d"
          }
        },
        "07ea9546f08a495581ff82009bacbb94": {
          "model_module": "@jupyter-widgets/controls",
          "model_name": "HTMLModel",
          "model_module_version": "1.5.0",
          "state": {
            "_dom_classes": [],
            "_model_module": "@jupyter-widgets/controls",
            "_model_module_version": "1.5.0",
            "_model_name": "HTMLModel",
            "_view_count": null,
            "_view_module": "@jupyter-widgets/controls",
            "_view_module_version": "1.5.0",
            "_view_name": "HTMLView",
            "description": "",
            "description_tooltip": null,
            "layout": "IPY_MODEL_881d720935cf4edfbbf323bd5683a0e9",
            "placeholder": "​",
            "style": "IPY_MODEL_0c911f24e1754a2ba1d3cbce9d94cb47",
            "value": "Processing: 100%"
          }
        },
        "1342fd92f0744ad19e2aa305dca53ae7": {
          "model_module": "@jupyter-widgets/controls",
          "model_name": "FloatProgressModel",
          "model_module_version": "1.5.0",
          "state": {
            "_dom_classes": [],
            "_model_module": "@jupyter-widgets/controls",
            "_model_module_version": "1.5.0",
            "_model_name": "FloatProgressModel",
            "_view_count": null,
            "_view_module": "@jupyter-widgets/controls",
            "_view_module_version": "1.5.0",
            "_view_name": "ProgressView",
            "bar_style": "",
            "description": "",
            "description_tooltip": null,
            "layout": "IPY_MODEL_811733909461410f9d4cee8a7cbe8737",
            "max": 81,
            "min": 0,
            "orientation": "horizontal",
            "style": "IPY_MODEL_21caed3d92f74a51920ff4da34d5be42",
            "value": 81
          }
        },
        "961fda2e8bc945a385f3af6aa094df4c": {
          "model_module": "@jupyter-widgets/controls",
          "model_name": "HTMLModel",
          "model_module_version": "1.5.0",
          "state": {
            "_dom_classes": [],
            "_model_module": "@jupyter-widgets/controls",
            "_model_module_version": "1.5.0",
            "_model_name": "HTMLModel",
            "_view_count": null,
            "_view_module": "@jupyter-widgets/controls",
            "_view_module_version": "1.5.0",
            "_view_name": "HTMLView",
            "description": "",
            "description_tooltip": null,
            "layout": "IPY_MODEL_daa234849fad4696aa7ec9cca4d4befd",
            "placeholder": "​",
            "style": "IPY_MODEL_5b76f4d0c6874767a48656a920846204",
            "value": " 81/81 [00:39&lt;00:00,  1.88it/s]"
          }
        },
        "98e4d3bccce845649474f58fca69a61d": {
          "model_module": "@jupyter-widgets/base",
          "model_name": "LayoutModel",
          "model_module_version": "1.2.0",
          "state": {
            "_model_module": "@jupyter-widgets/base",
            "_model_module_version": "1.2.0",
            "_model_name": "LayoutModel",
            "_view_count": null,
            "_view_module": "@jupyter-widgets/base",
            "_view_module_version": "1.2.0",
            "_view_name": "LayoutView",
            "align_content": null,
            "align_items": null,
            "align_self": null,
            "border": null,
            "bottom": null,
            "display": null,
            "flex": null,
            "flex_flow": null,
            "grid_area": null,
            "grid_auto_columns": null,
            "grid_auto_flow": null,
            "grid_auto_rows": null,
            "grid_column": null,
            "grid_gap": null,
            "grid_row": null,
            "grid_template_areas": null,
            "grid_template_columns": null,
            "grid_template_rows": null,
            "height": null,
            "justify_content": null,
            "justify_items": null,
            "left": null,
            "margin": null,
            "max_height": null,
            "max_width": null,
            "min_height": null,
            "min_width": null,
            "object_fit": null,
            "object_position": null,
            "order": null,
            "overflow": null,
            "overflow_x": null,
            "overflow_y": null,
            "padding": null,
            "right": null,
            "top": null,
            "visibility": "hidden",
            "width": null
          }
        },
        "881d720935cf4edfbbf323bd5683a0e9": {
          "model_module": "@jupyter-widgets/base",
          "model_name": "LayoutModel",
          "model_module_version": "1.2.0",
          "state": {
            "_model_module": "@jupyter-widgets/base",
            "_model_module_version": "1.2.0",
            "_model_name": "LayoutModel",
            "_view_count": null,
            "_view_module": "@jupyter-widgets/base",
            "_view_module_version": "1.2.0",
            "_view_name": "LayoutView",
            "align_content": null,
            "align_items": null,
            "align_self": null,
            "border": null,
            "bottom": null,
            "display": null,
            "flex": null,
            "flex_flow": null,
            "grid_area": null,
            "grid_auto_columns": null,
            "grid_auto_flow": null,
            "grid_auto_rows": null,
            "grid_column": null,
            "grid_gap": null,
            "grid_row": null,
            "grid_template_areas": null,
            "grid_template_columns": null,
            "grid_template_rows": null,
            "height": null,
            "justify_content": null,
            "justify_items": null,
            "left": null,
            "margin": null,
            "max_height": null,
            "max_width": null,
            "min_height": null,
            "min_width": null,
            "object_fit": null,
            "object_position": null,
            "order": null,
            "overflow": null,
            "overflow_x": null,
            "overflow_y": null,
            "padding": null,
            "right": null,
            "top": null,
            "visibility": null,
            "width": null
          }
        },
        "0c911f24e1754a2ba1d3cbce9d94cb47": {
          "model_module": "@jupyter-widgets/controls",
          "model_name": "DescriptionStyleModel",
          "model_module_version": "1.5.0",
          "state": {
            "_model_module": "@jupyter-widgets/controls",
            "_model_module_version": "1.5.0",
            "_model_name": "DescriptionStyleModel",
            "_view_count": null,
            "_view_module": "@jupyter-widgets/base",
            "_view_module_version": "1.2.0",
            "_view_name": "StyleView",
            "description_width": ""
          }
        },
        "811733909461410f9d4cee8a7cbe8737": {
          "model_module": "@jupyter-widgets/base",
          "model_name": "LayoutModel",
          "model_module_version": "1.2.0",
          "state": {
            "_model_module": "@jupyter-widgets/base",
            "_model_module_version": "1.2.0",
            "_model_name": "LayoutModel",
            "_view_count": null,
            "_view_module": "@jupyter-widgets/base",
            "_view_module_version": "1.2.0",
            "_view_name": "LayoutView",
            "align_content": null,
            "align_items": null,
            "align_self": null,
            "border": null,
            "bottom": null,
            "display": null,
            "flex": null,
            "flex_flow": null,
            "grid_area": null,
            "grid_auto_columns": null,
            "grid_auto_flow": null,
            "grid_auto_rows": null,
            "grid_column": null,
            "grid_gap": null,
            "grid_row": null,
            "grid_template_areas": null,
            "grid_template_columns": null,
            "grid_template_rows": null,
            "height": null,
            "justify_content": null,
            "justify_items": null,
            "left": null,
            "margin": null,
            "max_height": null,
            "max_width": null,
            "min_height": null,
            "min_width": null,
            "object_fit": null,
            "object_position": null,
            "order": null,
            "overflow": null,
            "overflow_x": null,
            "overflow_y": null,
            "padding": null,
            "right": null,
            "top": null,
            "visibility": null,
            "width": null
          }
        },
        "21caed3d92f74a51920ff4da34d5be42": {
          "model_module": "@jupyter-widgets/controls",
          "model_name": "ProgressStyleModel",
          "model_module_version": "1.5.0",
          "state": {
            "_model_module": "@jupyter-widgets/controls",
            "_model_module_version": "1.5.0",
            "_model_name": "ProgressStyleModel",
            "_view_count": null,
            "_view_module": "@jupyter-widgets/base",
            "_view_module_version": "1.2.0",
            "_view_name": "StyleView",
            "bar_color": null,
            "description_width": ""
          }
        },
        "daa234849fad4696aa7ec9cca4d4befd": {
          "model_module": "@jupyter-widgets/base",
          "model_name": "LayoutModel",
          "model_module_version": "1.2.0",
          "state": {
            "_model_module": "@jupyter-widgets/base",
            "_model_module_version": "1.2.0",
            "_model_name": "LayoutModel",
            "_view_count": null,
            "_view_module": "@jupyter-widgets/base",
            "_view_module_version": "1.2.0",
            "_view_name": "LayoutView",
            "align_content": null,
            "align_items": null,
            "align_self": null,
            "border": null,
            "bottom": null,
            "display": null,
            "flex": null,
            "flex_flow": null,
            "grid_area": null,
            "grid_auto_columns": null,
            "grid_auto_flow": null,
            "grid_auto_rows": null,
            "grid_column": null,
            "grid_gap": null,
            "grid_row": null,
            "grid_template_areas": null,
            "grid_template_columns": null,
            "grid_template_rows": null,
            "height": null,
            "justify_content": null,
            "justify_items": null,
            "left": null,
            "margin": null,
            "max_height": null,
            "max_width": null,
            "min_height": null,
            "min_width": null,
            "object_fit": null,
            "object_position": null,
            "order": null,
            "overflow": null,
            "overflow_x": null,
            "overflow_y": null,
            "padding": null,
            "right": null,
            "top": null,
            "visibility": null,
            "width": null
          }
        },
        "5b76f4d0c6874767a48656a920846204": {
          "model_module": "@jupyter-widgets/controls",
          "model_name": "DescriptionStyleModel",
          "model_module_version": "1.5.0",
          "state": {
            "_model_module": "@jupyter-widgets/controls",
            "_model_module_version": "1.5.0",
            "_model_name": "DescriptionStyleModel",
            "_view_count": null,
            "_view_module": "@jupyter-widgets/base",
            "_view_module_version": "1.2.0",
            "_view_name": "StyleView",
            "description_width": ""
          }
        },
        "911413a7bef14788939500a4d8989eae": {
          "model_module": "@jupyter-widgets/controls",
          "model_name": "HBoxModel",
          "model_module_version": "1.5.0",
          "state": {
            "_dom_classes": [],
            "_model_module": "@jupyter-widgets/controls",
            "_model_module_version": "1.5.0",
            "_model_name": "HBoxModel",
            "_view_count": null,
            "_view_module": "@jupyter-widgets/controls",
            "_view_module_version": "1.5.0",
            "_view_name": "HBoxView",
            "box_style": "",
            "children": [
              "IPY_MODEL_85a83f9d7a42419481735b3e41cbe611",
              "IPY_MODEL_ab2e068c03d44b2991953080ff7e7661",
              "IPY_MODEL_d693236c8880496fa60522c1075af621"
            ],
            "layout": "IPY_MODEL_b7934ad5e15d42f4a841a0c6d7b0f762"
          }
        },
        "85a83f9d7a42419481735b3e41cbe611": {
          "model_module": "@jupyter-widgets/controls",
          "model_name": "HTMLModel",
          "model_module_version": "1.5.0",
          "state": {
            "_dom_classes": [],
            "_model_module": "@jupyter-widgets/controls",
            "_model_module_version": "1.5.0",
            "_model_name": "HTMLModel",
            "_view_count": null,
            "_view_module": "@jupyter-widgets/controls",
            "_view_module_version": "1.5.0",
            "_view_name": "HTMLView",
            "description": "",
            "description_tooltip": null,
            "layout": "IPY_MODEL_57f6faf634124a908248ea11daefea9c",
            "placeholder": "​",
            "style": "IPY_MODEL_35cfbb19a7ac4fc28be3cc79a07291dc",
            "value": "Processing: 100%"
          }
        },
        "ab2e068c03d44b2991953080ff7e7661": {
          "model_module": "@jupyter-widgets/controls",
          "model_name": "FloatProgressModel",
          "model_module_version": "1.5.0",
          "state": {
            "_dom_classes": [],
            "_model_module": "@jupyter-widgets/controls",
            "_model_module_version": "1.5.0",
            "_model_name": "FloatProgressModel",
            "_view_count": null,
            "_view_module": "@jupyter-widgets/controls",
            "_view_module_version": "1.5.0",
            "_view_name": "ProgressView",
            "bar_style": "",
            "description": "",
            "description_tooltip": null,
            "layout": "IPY_MODEL_3f0fcb2267224d7ab66acf4ffd215dd8",
            "max": 4,
            "min": 0,
            "orientation": "horizontal",
            "style": "IPY_MODEL_95e9fb84dbde49ea85fd7c106b110a7d",
            "value": 4
          }
        },
        "d693236c8880496fa60522c1075af621": {
          "model_module": "@jupyter-widgets/controls",
          "model_name": "HTMLModel",
          "model_module_version": "1.5.0",
          "state": {
            "_dom_classes": [],
            "_model_module": "@jupyter-widgets/controls",
            "_model_module_version": "1.5.0",
            "_model_name": "HTMLModel",
            "_view_count": null,
            "_view_module": "@jupyter-widgets/controls",
            "_view_module_version": "1.5.0",
            "_view_name": "HTMLView",
            "description": "",
            "description_tooltip": null,
            "layout": "IPY_MODEL_55f1d825c6bb42429498912241714da9",
            "placeholder": "​",
            "style": "IPY_MODEL_d105e9797edf4e2da591beb28255be37",
            "value": " 4/4 [00:04&lt;00:00,  1.19s/it]"
          }
        },
        "b7934ad5e15d42f4a841a0c6d7b0f762": {
          "model_module": "@jupyter-widgets/base",
          "model_name": "LayoutModel",
          "model_module_version": "1.2.0",
          "state": {
            "_model_module": "@jupyter-widgets/base",
            "_model_module_version": "1.2.0",
            "_model_name": "LayoutModel",
            "_view_count": null,
            "_view_module": "@jupyter-widgets/base",
            "_view_module_version": "1.2.0",
            "_view_name": "LayoutView",
            "align_content": null,
            "align_items": null,
            "align_self": null,
            "border": null,
            "bottom": null,
            "display": null,
            "flex": null,
            "flex_flow": null,
            "grid_area": null,
            "grid_auto_columns": null,
            "grid_auto_flow": null,
            "grid_auto_rows": null,
            "grid_column": null,
            "grid_gap": null,
            "grid_row": null,
            "grid_template_areas": null,
            "grid_template_columns": null,
            "grid_template_rows": null,
            "height": null,
            "justify_content": null,
            "justify_items": null,
            "left": null,
            "margin": null,
            "max_height": null,
            "max_width": null,
            "min_height": null,
            "min_width": null,
            "object_fit": null,
            "object_position": null,
            "order": null,
            "overflow": null,
            "overflow_x": null,
            "overflow_y": null,
            "padding": null,
            "right": null,
            "top": null,
            "visibility": "hidden",
            "width": null
          }
        },
        "57f6faf634124a908248ea11daefea9c": {
          "model_module": "@jupyter-widgets/base",
          "model_name": "LayoutModel",
          "model_module_version": "1.2.0",
          "state": {
            "_model_module": "@jupyter-widgets/base",
            "_model_module_version": "1.2.0",
            "_model_name": "LayoutModel",
            "_view_count": null,
            "_view_module": "@jupyter-widgets/base",
            "_view_module_version": "1.2.0",
            "_view_name": "LayoutView",
            "align_content": null,
            "align_items": null,
            "align_self": null,
            "border": null,
            "bottom": null,
            "display": null,
            "flex": null,
            "flex_flow": null,
            "grid_area": null,
            "grid_auto_columns": null,
            "grid_auto_flow": null,
            "grid_auto_rows": null,
            "grid_column": null,
            "grid_gap": null,
            "grid_row": null,
            "grid_template_areas": null,
            "grid_template_columns": null,
            "grid_template_rows": null,
            "height": null,
            "justify_content": null,
            "justify_items": null,
            "left": null,
            "margin": null,
            "max_height": null,
            "max_width": null,
            "min_height": null,
            "min_width": null,
            "object_fit": null,
            "object_position": null,
            "order": null,
            "overflow": null,
            "overflow_x": null,
            "overflow_y": null,
            "padding": null,
            "right": null,
            "top": null,
            "visibility": null,
            "width": null
          }
        },
        "35cfbb19a7ac4fc28be3cc79a07291dc": {
          "model_module": "@jupyter-widgets/controls",
          "model_name": "DescriptionStyleModel",
          "model_module_version": "1.5.0",
          "state": {
            "_model_module": "@jupyter-widgets/controls",
            "_model_module_version": "1.5.0",
            "_model_name": "DescriptionStyleModel",
            "_view_count": null,
            "_view_module": "@jupyter-widgets/base",
            "_view_module_version": "1.2.0",
            "_view_name": "StyleView",
            "description_width": ""
          }
        },
        "3f0fcb2267224d7ab66acf4ffd215dd8": {
          "model_module": "@jupyter-widgets/base",
          "model_name": "LayoutModel",
          "model_module_version": "1.2.0",
          "state": {
            "_model_module": "@jupyter-widgets/base",
            "_model_module_version": "1.2.0",
            "_model_name": "LayoutModel",
            "_view_count": null,
            "_view_module": "@jupyter-widgets/base",
            "_view_module_version": "1.2.0",
            "_view_name": "LayoutView",
            "align_content": null,
            "align_items": null,
            "align_self": null,
            "border": null,
            "bottom": null,
            "display": null,
            "flex": null,
            "flex_flow": null,
            "grid_area": null,
            "grid_auto_columns": null,
            "grid_auto_flow": null,
            "grid_auto_rows": null,
            "grid_column": null,
            "grid_gap": null,
            "grid_row": null,
            "grid_template_areas": null,
            "grid_template_columns": null,
            "grid_template_rows": null,
            "height": null,
            "justify_content": null,
            "justify_items": null,
            "left": null,
            "margin": null,
            "max_height": null,
            "max_width": null,
            "min_height": null,
            "min_width": null,
            "object_fit": null,
            "object_position": null,
            "order": null,
            "overflow": null,
            "overflow_x": null,
            "overflow_y": null,
            "padding": null,
            "right": null,
            "top": null,
            "visibility": null,
            "width": null
          }
        },
        "95e9fb84dbde49ea85fd7c106b110a7d": {
          "model_module": "@jupyter-widgets/controls",
          "model_name": "ProgressStyleModel",
          "model_module_version": "1.5.0",
          "state": {
            "_model_module": "@jupyter-widgets/controls",
            "_model_module_version": "1.5.0",
            "_model_name": "ProgressStyleModel",
            "_view_count": null,
            "_view_module": "@jupyter-widgets/base",
            "_view_module_version": "1.2.0",
            "_view_name": "StyleView",
            "bar_color": null,
            "description_width": ""
          }
        },
        "55f1d825c6bb42429498912241714da9": {
          "model_module": "@jupyter-widgets/base",
          "model_name": "LayoutModel",
          "model_module_version": "1.2.0",
          "state": {
            "_model_module": "@jupyter-widgets/base",
            "_model_module_version": "1.2.0",
            "_model_name": "LayoutModel",
            "_view_count": null,
            "_view_module": "@jupyter-widgets/base",
            "_view_module_version": "1.2.0",
            "_view_name": "LayoutView",
            "align_content": null,
            "align_items": null,
            "align_self": null,
            "border": null,
            "bottom": null,
            "display": null,
            "flex": null,
            "flex_flow": null,
            "grid_area": null,
            "grid_auto_columns": null,
            "grid_auto_flow": null,
            "grid_auto_rows": null,
            "grid_column": null,
            "grid_gap": null,
            "grid_row": null,
            "grid_template_areas": null,
            "grid_template_columns": null,
            "grid_template_rows": null,
            "height": null,
            "justify_content": null,
            "justify_items": null,
            "left": null,
            "margin": null,
            "max_height": null,
            "max_width": null,
            "min_height": null,
            "min_width": null,
            "object_fit": null,
            "object_position": null,
            "order": null,
            "overflow": null,
            "overflow_x": null,
            "overflow_y": null,
            "padding": null,
            "right": null,
            "top": null,
            "visibility": null,
            "width": null
          }
        },
        "d105e9797edf4e2da591beb28255be37": {
          "model_module": "@jupyter-widgets/controls",
          "model_name": "DescriptionStyleModel",
          "model_module_version": "1.5.0",
          "state": {
            "_model_module": "@jupyter-widgets/controls",
            "_model_module_version": "1.5.0",
            "_model_name": "DescriptionStyleModel",
            "_view_count": null,
            "_view_module": "@jupyter-widgets/base",
            "_view_module_version": "1.2.0",
            "_view_name": "StyleView",
            "description_width": ""
          }
        },
        "117b2358fc5847fb9a1191009883a63f": {
          "model_module": "@jupyter-widgets/controls",
          "model_name": "HBoxModel",
          "model_module_version": "1.5.0",
          "state": {
            "_dom_classes": [],
            "_model_module": "@jupyter-widgets/controls",
            "_model_module_version": "1.5.0",
            "_model_name": "HBoxModel",
            "_view_count": null,
            "_view_module": "@jupyter-widgets/controls",
            "_view_module_version": "1.5.0",
            "_view_name": "HBoxView",
            "box_style": "",
            "children": [
              "IPY_MODEL_d29487f05d41413dbfd0c76bdefa2ba0",
              "IPY_MODEL_b76ddaf901114c7094d2d017459800d9",
              "IPY_MODEL_1b1296ad58314844bd54ae2b27691117"
            ],
            "layout": "IPY_MODEL_14a0e7972a1942f2b5110cee0d11da55"
          }
        },
        "d29487f05d41413dbfd0c76bdefa2ba0": {
          "model_module": "@jupyter-widgets/controls",
          "model_name": "HTMLModel",
          "model_module_version": "1.5.0",
          "state": {
            "_dom_classes": [],
            "_model_module": "@jupyter-widgets/controls",
            "_model_module_version": "1.5.0",
            "_model_name": "HTMLModel",
            "_view_count": null,
            "_view_module": "@jupyter-widgets/controls",
            "_view_module_version": "1.5.0",
            "_view_name": "HTMLView",
            "description": "",
            "description_tooltip": null,
            "layout": "IPY_MODEL_dbbc7504a3cd415093f0c99d4ec114bc",
            "placeholder": "​",
            "style": "IPY_MODEL_48792c4ae90f46afa3e28fcdd07c189b",
            "value": "Processing: 100%"
          }
        },
        "b76ddaf901114c7094d2d017459800d9": {
          "model_module": "@jupyter-widgets/controls",
          "model_name": "FloatProgressModel",
          "model_module_version": "1.5.0",
          "state": {
            "_dom_classes": [],
            "_model_module": "@jupyter-widgets/controls",
            "_model_module_version": "1.5.0",
            "_model_name": "FloatProgressModel",
            "_view_count": null,
            "_view_module": "@jupyter-widgets/controls",
            "_view_module_version": "1.5.0",
            "_view_name": "ProgressView",
            "bar_style": "",
            "description": "",
            "description_tooltip": null,
            "layout": "IPY_MODEL_b8170fec16d6440381c3c5fae7c8d443",
            "max": 7,
            "min": 0,
            "orientation": "horizontal",
            "style": "IPY_MODEL_9b13a0817e5b42c1ba8c1cf3f0d0d0cc",
            "value": 7
          }
        },
        "1b1296ad58314844bd54ae2b27691117": {
          "model_module": "@jupyter-widgets/controls",
          "model_name": "HTMLModel",
          "model_module_version": "1.5.0",
          "state": {
            "_dom_classes": [],
            "_model_module": "@jupyter-widgets/controls",
            "_model_module_version": "1.5.0",
            "_model_name": "HTMLModel",
            "_view_count": null,
            "_view_module": "@jupyter-widgets/controls",
            "_view_module_version": "1.5.0",
            "_view_name": "HTMLView",
            "description": "",
            "description_tooltip": null,
            "layout": "IPY_MODEL_8279c69347124ab58bcce7baf1b0c69f",
            "placeholder": "​",
            "style": "IPY_MODEL_a472b861527f42439feedf9c15fee272",
            "value": " 7/7 [01:11&lt;00:00,  9.47s/it]"
          }
        },
        "14a0e7972a1942f2b5110cee0d11da55": {
          "model_module": "@jupyter-widgets/base",
          "model_name": "LayoutModel",
          "model_module_version": "1.2.0",
          "state": {
            "_model_module": "@jupyter-widgets/base",
            "_model_module_version": "1.2.0",
            "_model_name": "LayoutModel",
            "_view_count": null,
            "_view_module": "@jupyter-widgets/base",
            "_view_module_version": "1.2.0",
            "_view_name": "LayoutView",
            "align_content": null,
            "align_items": null,
            "align_self": null,
            "border": null,
            "bottom": null,
            "display": null,
            "flex": null,
            "flex_flow": null,
            "grid_area": null,
            "grid_auto_columns": null,
            "grid_auto_flow": null,
            "grid_auto_rows": null,
            "grid_column": null,
            "grid_gap": null,
            "grid_row": null,
            "grid_template_areas": null,
            "grid_template_columns": null,
            "grid_template_rows": null,
            "height": null,
            "justify_content": null,
            "justify_items": null,
            "left": null,
            "margin": null,
            "max_height": null,
            "max_width": null,
            "min_height": null,
            "min_width": null,
            "object_fit": null,
            "object_position": null,
            "order": null,
            "overflow": null,
            "overflow_x": null,
            "overflow_y": null,
            "padding": null,
            "right": null,
            "top": null,
            "visibility": "hidden",
            "width": null
          }
        },
        "dbbc7504a3cd415093f0c99d4ec114bc": {
          "model_module": "@jupyter-widgets/base",
          "model_name": "LayoutModel",
          "model_module_version": "1.2.0",
          "state": {
            "_model_module": "@jupyter-widgets/base",
            "_model_module_version": "1.2.0",
            "_model_name": "LayoutModel",
            "_view_count": null,
            "_view_module": "@jupyter-widgets/base",
            "_view_module_version": "1.2.0",
            "_view_name": "LayoutView",
            "align_content": null,
            "align_items": null,
            "align_self": null,
            "border": null,
            "bottom": null,
            "display": null,
            "flex": null,
            "flex_flow": null,
            "grid_area": null,
            "grid_auto_columns": null,
            "grid_auto_flow": null,
            "grid_auto_rows": null,
            "grid_column": null,
            "grid_gap": null,
            "grid_row": null,
            "grid_template_areas": null,
            "grid_template_columns": null,
            "grid_template_rows": null,
            "height": null,
            "justify_content": null,
            "justify_items": null,
            "left": null,
            "margin": null,
            "max_height": null,
            "max_width": null,
            "min_height": null,
            "min_width": null,
            "object_fit": null,
            "object_position": null,
            "order": null,
            "overflow": null,
            "overflow_x": null,
            "overflow_y": null,
            "padding": null,
            "right": null,
            "top": null,
            "visibility": null,
            "width": null
          }
        },
        "48792c4ae90f46afa3e28fcdd07c189b": {
          "model_module": "@jupyter-widgets/controls",
          "model_name": "DescriptionStyleModel",
          "model_module_version": "1.5.0",
          "state": {
            "_model_module": "@jupyter-widgets/controls",
            "_model_module_version": "1.5.0",
            "_model_name": "DescriptionStyleModel",
            "_view_count": null,
            "_view_module": "@jupyter-widgets/base",
            "_view_module_version": "1.2.0",
            "_view_name": "StyleView",
            "description_width": ""
          }
        },
        "b8170fec16d6440381c3c5fae7c8d443": {
          "model_module": "@jupyter-widgets/base",
          "model_name": "LayoutModel",
          "model_module_version": "1.2.0",
          "state": {
            "_model_module": "@jupyter-widgets/base",
            "_model_module_version": "1.2.0",
            "_model_name": "LayoutModel",
            "_view_count": null,
            "_view_module": "@jupyter-widgets/base",
            "_view_module_version": "1.2.0",
            "_view_name": "LayoutView",
            "align_content": null,
            "align_items": null,
            "align_self": null,
            "border": null,
            "bottom": null,
            "display": null,
            "flex": null,
            "flex_flow": null,
            "grid_area": null,
            "grid_auto_columns": null,
            "grid_auto_flow": null,
            "grid_auto_rows": null,
            "grid_column": null,
            "grid_gap": null,
            "grid_row": null,
            "grid_template_areas": null,
            "grid_template_columns": null,
            "grid_template_rows": null,
            "height": null,
            "justify_content": null,
            "justify_items": null,
            "left": null,
            "margin": null,
            "max_height": null,
            "max_width": null,
            "min_height": null,
            "min_width": null,
            "object_fit": null,
            "object_position": null,
            "order": null,
            "overflow": null,
            "overflow_x": null,
            "overflow_y": null,
            "padding": null,
            "right": null,
            "top": null,
            "visibility": null,
            "width": null
          }
        },
        "9b13a0817e5b42c1ba8c1cf3f0d0d0cc": {
          "model_module": "@jupyter-widgets/controls",
          "model_name": "ProgressStyleModel",
          "model_module_version": "1.5.0",
          "state": {
            "_model_module": "@jupyter-widgets/controls",
            "_model_module_version": "1.5.0",
            "_model_name": "ProgressStyleModel",
            "_view_count": null,
            "_view_module": "@jupyter-widgets/base",
            "_view_module_version": "1.2.0",
            "_view_name": "StyleView",
            "bar_color": null,
            "description_width": ""
          }
        },
        "8279c69347124ab58bcce7baf1b0c69f": {
          "model_module": "@jupyter-widgets/base",
          "model_name": "LayoutModel",
          "model_module_version": "1.2.0",
          "state": {
            "_model_module": "@jupyter-widgets/base",
            "_model_module_version": "1.2.0",
            "_model_name": "LayoutModel",
            "_view_count": null,
            "_view_module": "@jupyter-widgets/base",
            "_view_module_version": "1.2.0",
            "_view_name": "LayoutView",
            "align_content": null,
            "align_items": null,
            "align_self": null,
            "border": null,
            "bottom": null,
            "display": null,
            "flex": null,
            "flex_flow": null,
            "grid_area": null,
            "grid_auto_columns": null,
            "grid_auto_flow": null,
            "grid_auto_rows": null,
            "grid_column": null,
            "grid_gap": null,
            "grid_row": null,
            "grid_template_areas": null,
            "grid_template_columns": null,
            "grid_template_rows": null,
            "height": null,
            "justify_content": null,
            "justify_items": null,
            "left": null,
            "margin": null,
            "max_height": null,
            "max_width": null,
            "min_height": null,
            "min_width": null,
            "object_fit": null,
            "object_position": null,
            "order": null,
            "overflow": null,
            "overflow_x": null,
            "overflow_y": null,
            "padding": null,
            "right": null,
            "top": null,
            "visibility": null,
            "width": null
          }
        },
        "a472b861527f42439feedf9c15fee272": {
          "model_module": "@jupyter-widgets/controls",
          "model_name": "DescriptionStyleModel",
          "model_module_version": "1.5.0",
          "state": {
            "_model_module": "@jupyter-widgets/controls",
            "_model_module_version": "1.5.0",
            "_model_name": "DescriptionStyleModel",
            "_view_count": null,
            "_view_module": "@jupyter-widgets/base",
            "_view_module_version": "1.2.0",
            "_view_name": "StyleView",
            "description_width": ""
          }
        }
      }
    }
  },
  "cells": [
    {
      "cell_type": "code",
      "execution_count": null,
      "metadata": {
        "colab": {
          "base_uri": "https://localhost:8080/"
        },
        "id": "bDJb1txVgnyR",
        "outputId": "6790c544-78ad-4e7b-c37c-675ee8fcde44"
      },
      "outputs": [
        {
          "output_type": "stream",
          "name": "stdout",
          "text": [
            "Requirement already satisfied: pycaret in /usr/local/lib/python3.10/dist-packages (3.3.2)\n",
            "Requirement already satisfied: ipython>=5.5.0 in /usr/local/lib/python3.10/dist-packages (from pycaret) (7.34.0)\n",
            "Requirement already satisfied: ipywidgets>=7.6.5 in /usr/local/lib/python3.10/dist-packages (from pycaret) (7.7.1)\n",
            "Requirement already satisfied: tqdm>=4.62.0 in /usr/local/lib/python3.10/dist-packages (from pycaret) (4.66.4)\n",
            "Requirement already satisfied: numpy<1.27,>=1.21 in /usr/local/lib/python3.10/dist-packages (from pycaret) (1.25.2)\n",
            "Requirement already satisfied: pandas<2.2.0 in /usr/local/lib/python3.10/dist-packages (from pycaret) (2.0.3)\n",
            "Requirement already satisfied: jinja2>=3 in /usr/local/lib/python3.10/dist-packages (from pycaret) (3.1.4)\n",
            "Requirement already satisfied: scipy<=1.11.4,>=1.6.1 in /usr/local/lib/python3.10/dist-packages (from pycaret) (1.11.4)\n",
            "Requirement already satisfied: joblib<1.4,>=1.2.0 in /usr/local/lib/python3.10/dist-packages (from pycaret) (1.3.2)\n",
            "Requirement already satisfied: scikit-learn>1.4.0 in /usr/local/lib/python3.10/dist-packages (from pycaret) (1.4.2)\n",
            "Requirement already satisfied: pyod>=1.1.3 in /usr/local/lib/python3.10/dist-packages (from pycaret) (2.0.1)\n",
            "Requirement already satisfied: imbalanced-learn>=0.12.0 in /usr/local/lib/python3.10/dist-packages (from pycaret) (0.12.3)\n",
            "Requirement already satisfied: category-encoders>=2.4.0 in /usr/local/lib/python3.10/dist-packages (from pycaret) (2.6.3)\n",
            "Requirement already satisfied: lightgbm>=3.0.0 in /usr/local/lib/python3.10/dist-packages (from pycaret) (4.1.0)\n",
            "Requirement already satisfied: numba>=0.55.0 in /usr/local/lib/python3.10/dist-packages (from pycaret) (0.58.1)\n",
            "Requirement already satisfied: requests>=2.27.1 in /usr/local/lib/python3.10/dist-packages (from pycaret) (2.31.0)\n",
            "Requirement already satisfied: psutil>=5.9.0 in /usr/local/lib/python3.10/dist-packages (from pycaret) (5.9.5)\n",
            "Requirement already satisfied: markupsafe>=2.0.1 in /usr/local/lib/python3.10/dist-packages (from pycaret) (2.1.5)\n",
            "Requirement already satisfied: importlib-metadata>=4.12.0 in /usr/local/lib/python3.10/dist-packages (from pycaret) (8.0.0)\n",
            "Requirement already satisfied: nbformat>=4.2.0 in /usr/local/lib/python3.10/dist-packages (from pycaret) (5.10.4)\n",
            "Requirement already satisfied: cloudpickle in /usr/local/lib/python3.10/dist-packages (from pycaret) (2.2.1)\n",
            "Requirement already satisfied: deprecation>=2.1.0 in /usr/local/lib/python3.10/dist-packages (from pycaret) (2.1.0)\n",
            "Requirement already satisfied: xxhash in /usr/local/lib/python3.10/dist-packages (from pycaret) (3.4.1)\n",
            "Requirement already satisfied: matplotlib<3.8.0 in /usr/local/lib/python3.10/dist-packages (from pycaret) (3.7.1)\n",
            "Requirement already satisfied: scikit-plot>=0.3.7 in /usr/local/lib/python3.10/dist-packages (from pycaret) (0.3.7)\n",
            "Requirement already satisfied: yellowbrick>=1.4 in /usr/local/lib/python3.10/dist-packages (from pycaret) (1.5)\n",
            "Requirement already satisfied: plotly>=5.14.0 in /usr/local/lib/python3.10/dist-packages (from pycaret) (5.15.0)\n",
            "Requirement already satisfied: kaleido>=0.2.1 in /usr/local/lib/python3.10/dist-packages (from pycaret) (0.2.1)\n",
            "Requirement already satisfied: schemdraw==0.15 in /usr/local/lib/python3.10/dist-packages (from pycaret) (0.15)\n",
            "Requirement already satisfied: plotly-resampler>=0.8.3.1 in /usr/local/lib/python3.10/dist-packages (from pycaret) (0.10.0)\n",
            "Requirement already satisfied: statsmodels>=0.12.1 in /usr/local/lib/python3.10/dist-packages (from pycaret) (0.14.2)\n",
            "Requirement already satisfied: sktime==0.26.0 in /usr/local/lib/python3.10/dist-packages (from pycaret) (0.26.0)\n",
            "Requirement already satisfied: tbats>=1.1.3 in /usr/local/lib/python3.10/dist-packages (from pycaret) (1.1.3)\n",
            "Requirement already satisfied: pmdarima>=2.0.4 in /usr/local/lib/python3.10/dist-packages (from pycaret) (2.0.4)\n",
            "Requirement already satisfied: wurlitzer in /usr/local/lib/python3.10/dist-packages (from pycaret) (3.1.1)\n",
            "Requirement already satisfied: packaging in /usr/local/lib/python3.10/dist-packages (from sktime==0.26.0->pycaret) (24.1)\n",
            "Requirement already satisfied: scikit-base<0.8.0 in /usr/local/lib/python3.10/dist-packages (from sktime==0.26.0->pycaret) (0.7.8)\n",
            "Requirement already satisfied: patsy>=0.5.1 in /usr/local/lib/python3.10/dist-packages (from category-encoders>=2.4.0->pycaret) (0.5.6)\n",
            "Requirement already satisfied: threadpoolctl>=2.0.0 in /usr/local/lib/python3.10/dist-packages (from imbalanced-learn>=0.12.0->pycaret) (3.5.0)\n",
            "Requirement already satisfied: zipp>=0.5 in /usr/local/lib/python3.10/dist-packages (from importlib-metadata>=4.12.0->pycaret) (3.19.2)\n",
            "Requirement already satisfied: setuptools>=18.5 in /usr/local/lib/python3.10/dist-packages (from ipython>=5.5.0->pycaret) (67.7.2)\n",
            "Requirement already satisfied: jedi>=0.16 in /usr/local/lib/python3.10/dist-packages (from ipython>=5.5.0->pycaret) (0.19.1)\n",
            "Requirement already satisfied: decorator in /usr/local/lib/python3.10/dist-packages (from ipython>=5.5.0->pycaret) (4.4.2)\n",
            "Requirement already satisfied: pickleshare in /usr/local/lib/python3.10/dist-packages (from ipython>=5.5.0->pycaret) (0.7.5)\n",
            "Requirement already satisfied: traitlets>=4.2 in /usr/local/lib/python3.10/dist-packages (from ipython>=5.5.0->pycaret) (5.7.1)\n",
            "Requirement already satisfied: prompt-toolkit!=3.0.0,!=3.0.1,<3.1.0,>=2.0.0 in /usr/local/lib/python3.10/dist-packages (from ipython>=5.5.0->pycaret) (3.0.47)\n",
            "Requirement already satisfied: pygments in /usr/local/lib/python3.10/dist-packages (from ipython>=5.5.0->pycaret) (2.16.1)\n",
            "Requirement already satisfied: backcall in /usr/local/lib/python3.10/dist-packages (from ipython>=5.5.0->pycaret) (0.2.0)\n",
            "Requirement already satisfied: matplotlib-inline in /usr/local/lib/python3.10/dist-packages (from ipython>=5.5.0->pycaret) (0.1.7)\n",
            "Requirement already satisfied: pexpect>4.3 in /usr/local/lib/python3.10/dist-packages (from ipython>=5.5.0->pycaret) (4.9.0)\n",
            "Requirement already satisfied: ipykernel>=4.5.1 in /usr/local/lib/python3.10/dist-packages (from ipywidgets>=7.6.5->pycaret) (5.5.6)\n",
            "Requirement already satisfied: ipython-genutils~=0.2.0 in /usr/local/lib/python3.10/dist-packages (from ipywidgets>=7.6.5->pycaret) (0.2.0)\n",
            "Requirement already satisfied: widgetsnbextension~=3.6.0 in /usr/local/lib/python3.10/dist-packages (from ipywidgets>=7.6.5->pycaret) (3.6.6)\n",
            "Requirement already satisfied: jupyterlab-widgets>=1.0.0 in /usr/local/lib/python3.10/dist-packages (from ipywidgets>=7.6.5->pycaret) (3.0.11)\n",
            "Requirement already satisfied: contourpy>=1.0.1 in /usr/local/lib/python3.10/dist-packages (from matplotlib<3.8.0->pycaret) (1.2.1)\n",
            "Requirement already satisfied: cycler>=0.10 in /usr/local/lib/python3.10/dist-packages (from matplotlib<3.8.0->pycaret) (0.12.1)\n",
            "Requirement already satisfied: fonttools>=4.22.0 in /usr/local/lib/python3.10/dist-packages (from matplotlib<3.8.0->pycaret) (4.53.0)\n",
            "Requirement already satisfied: kiwisolver>=1.0.1 in /usr/local/lib/python3.10/dist-packages (from matplotlib<3.8.0->pycaret) (1.4.5)\n",
            "Requirement already satisfied: pillow>=6.2.0 in /usr/local/lib/python3.10/dist-packages (from matplotlib<3.8.0->pycaret) (9.4.0)\n",
            "Requirement already satisfied: pyparsing>=2.3.1 in /usr/local/lib/python3.10/dist-packages (from matplotlib<3.8.0->pycaret) (3.1.2)\n",
            "Requirement already satisfied: python-dateutil>=2.7 in /usr/local/lib/python3.10/dist-packages (from matplotlib<3.8.0->pycaret) (2.8.2)\n",
            "Requirement already satisfied: fastjsonschema>=2.15 in /usr/local/lib/python3.10/dist-packages (from nbformat>=4.2.0->pycaret) (2.20.0)\n",
            "Requirement already satisfied: jsonschema>=2.6 in /usr/local/lib/python3.10/dist-packages (from nbformat>=4.2.0->pycaret) (4.19.2)\n",
            "Requirement already satisfied: jupyter-core!=5.0.*,>=4.12 in /usr/local/lib/python3.10/dist-packages (from nbformat>=4.2.0->pycaret) (5.7.2)\n",
            "Requirement already satisfied: llvmlite<0.42,>=0.41.0dev0 in /usr/local/lib/python3.10/dist-packages (from numba>=0.55.0->pycaret) (0.41.1)\n",
            "Requirement already satisfied: pytz>=2020.1 in /usr/local/lib/python3.10/dist-packages (from pandas<2.2.0->pycaret) (2023.4)\n",
            "Requirement already satisfied: tzdata>=2022.1 in /usr/local/lib/python3.10/dist-packages (from pandas<2.2.0->pycaret) (2024.1)\n",
            "Requirement already satisfied: tenacity>=6.2.0 in /usr/local/lib/python3.10/dist-packages (from plotly>=5.14.0->pycaret) (8.4.2)\n",
            "Requirement already satisfied: dash>=2.9.0 in /usr/local/lib/python3.10/dist-packages (from plotly-resampler>=0.8.3.1->pycaret) (2.17.1)\n",
            "Requirement already satisfied: orjson<4.0.0,>=3.8.0 in /usr/local/lib/python3.10/dist-packages (from plotly-resampler>=0.8.3.1->pycaret) (3.10.6)\n",
            "Requirement already satisfied: tsdownsample>=0.1.3 in /usr/local/lib/python3.10/dist-packages (from plotly-resampler>=0.8.3.1->pycaret) (0.1.3)\n",
            "Requirement already satisfied: Cython!=0.29.18,!=0.29.31,>=0.29 in /usr/local/lib/python3.10/dist-packages (from pmdarima>=2.0.4->pycaret) (3.0.10)\n",
            "Requirement already satisfied: urllib3 in /usr/local/lib/python3.10/dist-packages (from pmdarima>=2.0.4->pycaret) (2.0.7)\n",
            "Requirement already satisfied: charset-normalizer<4,>=2 in /usr/local/lib/python3.10/dist-packages (from requests>=2.27.1->pycaret) (3.3.2)\n",
            "Requirement already satisfied: idna<4,>=2.5 in /usr/local/lib/python3.10/dist-packages (from requests>=2.27.1->pycaret) (3.7)\n",
            "Requirement already satisfied: certifi>=2017.4.17 in /usr/local/lib/python3.10/dist-packages (from requests>=2.27.1->pycaret) (2024.6.2)\n",
            "Requirement already satisfied: Flask<3.1,>=1.0.4 in /usr/local/lib/python3.10/dist-packages (from dash>=2.9.0->plotly-resampler>=0.8.3.1->pycaret) (2.2.5)\n",
            "Requirement already satisfied: Werkzeug<3.1 in /usr/local/lib/python3.10/dist-packages (from dash>=2.9.0->plotly-resampler>=0.8.3.1->pycaret) (3.0.3)\n",
            "Requirement already satisfied: dash-html-components==2.0.0 in /usr/local/lib/python3.10/dist-packages (from dash>=2.9.0->plotly-resampler>=0.8.3.1->pycaret) (2.0.0)\n",
            "Requirement already satisfied: dash-core-components==2.0.0 in /usr/local/lib/python3.10/dist-packages (from dash>=2.9.0->plotly-resampler>=0.8.3.1->pycaret) (2.0.0)\n",
            "Requirement already satisfied: dash-table==5.0.0 in /usr/local/lib/python3.10/dist-packages (from dash>=2.9.0->plotly-resampler>=0.8.3.1->pycaret) (5.0.0)\n",
            "Requirement already satisfied: typing-extensions>=4.1.1 in /usr/local/lib/python3.10/dist-packages (from dash>=2.9.0->plotly-resampler>=0.8.3.1->pycaret) (4.12.2)\n",
            "Requirement already satisfied: retrying in /usr/local/lib/python3.10/dist-packages (from dash>=2.9.0->plotly-resampler>=0.8.3.1->pycaret) (1.3.4)\n",
            "Requirement already satisfied: nest-asyncio in /usr/local/lib/python3.10/dist-packages (from dash>=2.9.0->plotly-resampler>=0.8.3.1->pycaret) (1.6.0)\n",
            "Requirement already satisfied: jupyter-client in /usr/local/lib/python3.10/dist-packages (from ipykernel>=4.5.1->ipywidgets>=7.6.5->pycaret) (6.1.12)\n",
            "Requirement already satisfied: tornado>=4.2 in /usr/local/lib/python3.10/dist-packages (from ipykernel>=4.5.1->ipywidgets>=7.6.5->pycaret) (6.3.3)\n",
            "Requirement already satisfied: parso<0.9.0,>=0.8.3 in /usr/local/lib/python3.10/dist-packages (from jedi>=0.16->ipython>=5.5.0->pycaret) (0.8.4)\n",
            "Requirement already satisfied: attrs>=22.2.0 in /usr/local/lib/python3.10/dist-packages (from jsonschema>=2.6->nbformat>=4.2.0->pycaret) (23.2.0)\n",
            "Requirement already satisfied: jsonschema-specifications>=2023.03.6 in /usr/local/lib/python3.10/dist-packages (from jsonschema>=2.6->nbformat>=4.2.0->pycaret) (2023.12.1)\n",
            "Requirement already satisfied: referencing>=0.28.4 in /usr/local/lib/python3.10/dist-packages (from jsonschema>=2.6->nbformat>=4.2.0->pycaret) (0.35.1)\n",
            "Requirement already satisfied: rpds-py>=0.7.1 in /usr/local/lib/python3.10/dist-packages (from jsonschema>=2.6->nbformat>=4.2.0->pycaret) (0.18.1)\n",
            "Requirement already satisfied: platformdirs>=2.5 in /usr/local/lib/python3.10/dist-packages (from jupyter-core!=5.0.*,>=4.12->nbformat>=4.2.0->pycaret) (4.2.2)\n",
            "Requirement already satisfied: six in /usr/local/lib/python3.10/dist-packages (from patsy>=0.5.1->category-encoders>=2.4.0->pycaret) (1.16.0)\n",
            "Requirement already satisfied: ptyprocess>=0.5 in /usr/local/lib/python3.10/dist-packages (from pexpect>4.3->ipython>=5.5.0->pycaret) (0.7.0)\n",
            "Requirement already satisfied: wcwidth in /usr/local/lib/python3.10/dist-packages (from prompt-toolkit!=3.0.0,!=3.0.1,<3.1.0,>=2.0.0->ipython>=5.5.0->pycaret) (0.2.13)\n",
            "Requirement already satisfied: notebook>=4.4.1 in /usr/local/lib/python3.10/dist-packages (from widgetsnbextension~=3.6.0->ipywidgets>=7.6.5->pycaret) (6.5.5)\n",
            "Requirement already satisfied: itsdangerous>=2.0 in /usr/local/lib/python3.10/dist-packages (from Flask<3.1,>=1.0.4->dash>=2.9.0->plotly-resampler>=0.8.3.1->pycaret) (2.2.0)\n",
            "Requirement already satisfied: click>=8.0 in /usr/local/lib/python3.10/dist-packages (from Flask<3.1,>=1.0.4->dash>=2.9.0->plotly-resampler>=0.8.3.1->pycaret) (8.1.7)\n",
            "Requirement already satisfied: pyzmq<25,>=17 in /usr/local/lib/python3.10/dist-packages (from notebook>=4.4.1->widgetsnbextension~=3.6.0->ipywidgets>=7.6.5->pycaret) (24.0.1)\n",
            "Requirement already satisfied: argon2-cffi in /usr/local/lib/python3.10/dist-packages (from notebook>=4.4.1->widgetsnbextension~=3.6.0->ipywidgets>=7.6.5->pycaret) (23.1.0)\n",
            "Requirement already satisfied: nbconvert>=5 in /usr/local/lib/python3.10/dist-packages (from notebook>=4.4.1->widgetsnbextension~=3.6.0->ipywidgets>=7.6.5->pycaret) (6.5.4)\n",
            "Requirement already satisfied: Send2Trash>=1.8.0 in /usr/local/lib/python3.10/dist-packages (from notebook>=4.4.1->widgetsnbextension~=3.6.0->ipywidgets>=7.6.5->pycaret) (1.8.3)\n",
            "Requirement already satisfied: terminado>=0.8.3 in /usr/local/lib/python3.10/dist-packages (from notebook>=4.4.1->widgetsnbextension~=3.6.0->ipywidgets>=7.6.5->pycaret) (0.18.1)\n",
            "Requirement already satisfied: prometheus-client in /usr/local/lib/python3.10/dist-packages (from notebook>=4.4.1->widgetsnbextension~=3.6.0->ipywidgets>=7.6.5->pycaret) (0.20.0)\n",
            "Requirement already satisfied: nbclassic>=0.4.7 in /usr/local/lib/python3.10/dist-packages (from notebook>=4.4.1->widgetsnbextension~=3.6.0->ipywidgets>=7.6.5->pycaret) (1.1.0)\n",
            "Requirement already satisfied: notebook-shim>=0.2.3 in /usr/local/lib/python3.10/dist-packages (from nbclassic>=0.4.7->notebook>=4.4.1->widgetsnbextension~=3.6.0->ipywidgets>=7.6.5->pycaret) (0.2.4)\n",
            "Requirement already satisfied: lxml in /usr/local/lib/python3.10/dist-packages (from nbconvert>=5->notebook>=4.4.1->widgetsnbextension~=3.6.0->ipywidgets>=7.6.5->pycaret) (4.9.4)\n",
            "Requirement already satisfied: beautifulsoup4 in /usr/local/lib/python3.10/dist-packages (from nbconvert>=5->notebook>=4.4.1->widgetsnbextension~=3.6.0->ipywidgets>=7.6.5->pycaret) (4.12.3)\n",
            "Requirement already satisfied: bleach in /usr/local/lib/python3.10/dist-packages (from nbconvert>=5->notebook>=4.4.1->widgetsnbextension~=3.6.0->ipywidgets>=7.6.5->pycaret) (6.1.0)\n",
            "Requirement already satisfied: defusedxml in /usr/local/lib/python3.10/dist-packages (from nbconvert>=5->notebook>=4.4.1->widgetsnbextension~=3.6.0->ipywidgets>=7.6.5->pycaret) (0.7.1)\n",
            "Requirement already satisfied: entrypoints>=0.2.2 in /usr/local/lib/python3.10/dist-packages (from nbconvert>=5->notebook>=4.4.1->widgetsnbextension~=3.6.0->ipywidgets>=7.6.5->pycaret) (0.4)\n",
            "Requirement already satisfied: jupyterlab-pygments in /usr/local/lib/python3.10/dist-packages (from nbconvert>=5->notebook>=4.4.1->widgetsnbextension~=3.6.0->ipywidgets>=7.6.5->pycaret) (0.3.0)\n",
            "Requirement already satisfied: mistune<2,>=0.8.1 in /usr/local/lib/python3.10/dist-packages (from nbconvert>=5->notebook>=4.4.1->widgetsnbextension~=3.6.0->ipywidgets>=7.6.5->pycaret) (0.8.4)\n",
            "Requirement already satisfied: nbclient>=0.5.0 in /usr/local/lib/python3.10/dist-packages (from nbconvert>=5->notebook>=4.4.1->widgetsnbextension~=3.6.0->ipywidgets>=7.6.5->pycaret) (0.10.0)\n",
            "Requirement already satisfied: pandocfilters>=1.4.1 in /usr/local/lib/python3.10/dist-packages (from nbconvert>=5->notebook>=4.4.1->widgetsnbextension~=3.6.0->ipywidgets>=7.6.5->pycaret) (1.5.1)\n",
            "Requirement already satisfied: tinycss2 in /usr/local/lib/python3.10/dist-packages (from nbconvert>=5->notebook>=4.4.1->widgetsnbextension~=3.6.0->ipywidgets>=7.6.5->pycaret) (1.3.0)\n",
            "Requirement already satisfied: argon2-cffi-bindings in /usr/local/lib/python3.10/dist-packages (from argon2-cffi->notebook>=4.4.1->widgetsnbextension~=3.6.0->ipywidgets>=7.6.5->pycaret) (21.2.0)\n",
            "Requirement already satisfied: jupyter-server<3,>=1.8 in /usr/local/lib/python3.10/dist-packages (from notebook-shim>=0.2.3->nbclassic>=0.4.7->notebook>=4.4.1->widgetsnbextension~=3.6.0->ipywidgets>=7.6.5->pycaret) (1.24.0)\n",
            "Requirement already satisfied: cffi>=1.0.1 in /usr/local/lib/python3.10/dist-packages (from argon2-cffi-bindings->argon2-cffi->notebook>=4.4.1->widgetsnbextension~=3.6.0->ipywidgets>=7.6.5->pycaret) (1.16.0)\n",
            "Requirement already satisfied: soupsieve>1.2 in /usr/local/lib/python3.10/dist-packages (from beautifulsoup4->nbconvert>=5->notebook>=4.4.1->widgetsnbextension~=3.6.0->ipywidgets>=7.6.5->pycaret) (2.5)\n",
            "Requirement already satisfied: webencodings in /usr/local/lib/python3.10/dist-packages (from bleach->nbconvert>=5->notebook>=4.4.1->widgetsnbextension~=3.6.0->ipywidgets>=7.6.5->pycaret) (0.5.1)\n",
            "Requirement already satisfied: pycparser in /usr/local/lib/python3.10/dist-packages (from cffi>=1.0.1->argon2-cffi-bindings->argon2-cffi->notebook>=4.4.1->widgetsnbextension~=3.6.0->ipywidgets>=7.6.5->pycaret) (2.22)\n",
            "Requirement already satisfied: anyio<4,>=3.1.0 in /usr/local/lib/python3.10/dist-packages (from jupyter-server<3,>=1.8->notebook-shim>=0.2.3->nbclassic>=0.4.7->notebook>=4.4.1->widgetsnbextension~=3.6.0->ipywidgets>=7.6.5->pycaret) (3.7.1)\n",
            "Requirement already satisfied: websocket-client in /usr/local/lib/python3.10/dist-packages (from jupyter-server<3,>=1.8->notebook-shim>=0.2.3->nbclassic>=0.4.7->notebook>=4.4.1->widgetsnbextension~=3.6.0->ipywidgets>=7.6.5->pycaret) (1.8.0)\n",
            "Requirement already satisfied: sniffio>=1.1 in /usr/local/lib/python3.10/dist-packages (from anyio<4,>=3.1.0->jupyter-server<3,>=1.8->notebook-shim>=0.2.3->nbclassic>=0.4.7->notebook>=4.4.1->widgetsnbextension~=3.6.0->ipywidgets>=7.6.5->pycaret) (1.3.1)\n",
            "Requirement already satisfied: exceptiongroup in /usr/local/lib/python3.10/dist-packages (from anyio<4,>=3.1.0->jupyter-server<3,>=1.8->notebook-shim>=0.2.3->nbclassic>=0.4.7->notebook>=4.4.1->widgetsnbextension~=3.6.0->ipywidgets>=7.6.5->pycaret) (1.2.1)\n"
          ]
        }
      ],
      "source": [
        "pip install pycaret"
      ]
    },
    {
      "cell_type": "code",
      "source": [
        "import pandas as pd\n",
        "import numpy as np\n",
        "from pycaret.regression import *\n",
        "from sklearn.preprocessing import MinMaxScaler\n",
        "import matplotlib.pyplot as plt\n",
        "from sklearn.metrics import mean_absolute_percentage_error, mean_squared_error"
      ],
      "metadata": {
        "id": "wG3ztcVvgo8h"
      },
      "execution_count": null,
      "outputs": []
    },
    {
      "cell_type": "code",
      "source": [
        "data_path = 'aces_ma - 15.csv'\n",
        "df = pd.read_csv(data_path, parse_dates=['Date'])"
      ],
      "metadata": {
        "id": "1T7MHlwdgsnL"
      },
      "execution_count": null,
      "outputs": []
    },
    {
      "cell_type": "code",
      "source": [
        "df['MA'] = df['MA'].str.replace(',', '.').astype(float)"
      ],
      "metadata": {
        "id": "MpPXjxlpgzdu"
      },
      "execution_count": null,
      "outputs": []
    },
    {
      "cell_type": "code",
      "source": [
        "# Normalisasi menggunakan MinMaxScaler\n",
        "scaler = MinMaxScaler(feature_range=(0, 1))\n",
        "df['MA'] = scaler.fit_transform(np.array(df['MA']).reshape(-1, 1))"
      ],
      "metadata": {
        "id": "dkkRVbejg2Aj"
      },
      "execution_count": null,
      "outputs": []
    },
    {
      "cell_type": "code",
      "source": [
        "# Pembagian data latih 90% dan data validasi 10%\n",
        "training_size = int(len(df) * 0.9)\n",
        "train_data, test_data = df[:training_size], df[training_size:]"
      ],
      "metadata": {
        "id": "olErD86ig4lU"
      },
      "execution_count": null,
      "outputs": []
    },
    {
      "cell_type": "code",
      "source": [
        "# PyCaret setup\n",
        "reg = setup(data=train_data, target='MA', session_id=123, train_size=0.9, fold=5, verbose=False)"
      ],
      "metadata": {
        "id": "TWO2DxgVg6F8"
      },
      "execution_count": null,
      "outputs": []
    },
    {
      "cell_type": "code",
      "source": [
        "# Membandingkan model\n",
        "best_model = compare_models()"
      ],
      "metadata": {
        "colab": {
          "base_uri": "https://localhost:8080/",
          "height": 645,
          "referenced_widgets": [
            "1862f4cc9c1742c29effd1a36ac9511f",
            "07ea9546f08a495581ff82009bacbb94",
            "1342fd92f0744ad19e2aa305dca53ae7",
            "961fda2e8bc945a385f3af6aa094df4c",
            "98e4d3bccce845649474f58fca69a61d",
            "881d720935cf4edfbbf323bd5683a0e9",
            "0c911f24e1754a2ba1d3cbce9d94cb47",
            "811733909461410f9d4cee8a7cbe8737",
            "21caed3d92f74a51920ff4da34d5be42",
            "daa234849fad4696aa7ec9cca4d4befd",
            "5b76f4d0c6874767a48656a920846204"
          ]
        },
        "id": "Ql1Ju-NUg8rr",
        "outputId": "a2549d57-f0d3-4b8f-fe3c-4facba87d3e9"
      },
      "execution_count": null,
      "outputs": [
        {
          "output_type": "display_data",
          "data": {
            "text/plain": [
              "<IPython.core.display.HTML object>"
            ],
            "text/html": []
          },
          "metadata": {}
        },
        {
          "output_type": "display_data",
          "data": {
            "text/plain": [
              "<pandas.io.formats.style.Styler at 0x795db426a890>"
            ],
            "text/html": [
              "<style type=\"text/css\">\n",
              "#T_338f2 th {\n",
              "  text-align: left;\n",
              "}\n",
              "#T_338f2_row0_col0, #T_338f2_row1_col0, #T_338f2_row1_col1, #T_338f2_row1_col3, #T_338f2_row1_col4, #T_338f2_row1_col5, #T_338f2_row1_col6, #T_338f2_row2_col0, #T_338f2_row2_col1, #T_338f2_row2_col3, #T_338f2_row2_col4, #T_338f2_row2_col5, #T_338f2_row2_col6, #T_338f2_row3_col0, #T_338f2_row3_col1, #T_338f2_row3_col3, #T_338f2_row3_col4, #T_338f2_row3_col5, #T_338f2_row3_col6, #T_338f2_row4_col0, #T_338f2_row4_col1, #T_338f2_row4_col2, #T_338f2_row4_col3, #T_338f2_row4_col4, #T_338f2_row4_col5, #T_338f2_row4_col6, #T_338f2_row5_col0, #T_338f2_row5_col1, #T_338f2_row5_col2, #T_338f2_row5_col3, #T_338f2_row5_col4, #T_338f2_row5_col5, #T_338f2_row5_col6, #T_338f2_row6_col0, #T_338f2_row6_col1, #T_338f2_row6_col2, #T_338f2_row6_col3, #T_338f2_row6_col4, #T_338f2_row6_col5, #T_338f2_row6_col6, #T_338f2_row7_col0, #T_338f2_row7_col1, #T_338f2_row7_col2, #T_338f2_row7_col3, #T_338f2_row7_col4, #T_338f2_row7_col5, #T_338f2_row7_col6, #T_338f2_row8_col0, #T_338f2_row8_col1, #T_338f2_row8_col2, #T_338f2_row8_col3, #T_338f2_row8_col4, #T_338f2_row8_col5, #T_338f2_row8_col6, #T_338f2_row9_col0, #T_338f2_row9_col1, #T_338f2_row9_col2, #T_338f2_row9_col3, #T_338f2_row9_col4, #T_338f2_row9_col5, #T_338f2_row9_col6, #T_338f2_row10_col0, #T_338f2_row10_col1, #T_338f2_row10_col2, #T_338f2_row10_col3, #T_338f2_row10_col4, #T_338f2_row10_col5, #T_338f2_row10_col6, #T_338f2_row11_col0, #T_338f2_row11_col1, #T_338f2_row11_col2, #T_338f2_row11_col3, #T_338f2_row11_col4, #T_338f2_row11_col5, #T_338f2_row11_col6, #T_338f2_row12_col0, #T_338f2_row12_col1, #T_338f2_row12_col2, #T_338f2_row12_col3, #T_338f2_row12_col4, #T_338f2_row12_col5, #T_338f2_row12_col6, #T_338f2_row13_col0, #T_338f2_row13_col1, #T_338f2_row13_col2, #T_338f2_row13_col3, #T_338f2_row13_col4, #T_338f2_row13_col5, #T_338f2_row13_col6, #T_338f2_row14_col0, #T_338f2_row14_col1, #T_338f2_row14_col2, #T_338f2_row14_col3, #T_338f2_row14_col4, #T_338f2_row14_col5, #T_338f2_row14_col6, #T_338f2_row15_col0, #T_338f2_row15_col1, #T_338f2_row15_col2, #T_338f2_row15_col3, #T_338f2_row15_col4, #T_338f2_row15_col5, #T_338f2_row15_col6, #T_338f2_row16_col0, #T_338f2_row16_col1, #T_338f2_row16_col2, #T_338f2_row16_col3, #T_338f2_row16_col4, #T_338f2_row16_col5, #T_338f2_row16_col6, #T_338f2_row17_col0, #T_338f2_row17_col1, #T_338f2_row17_col2, #T_338f2_row17_col3, #T_338f2_row17_col4, #T_338f2_row17_col5, #T_338f2_row17_col6, #T_338f2_row18_col0, #T_338f2_row18_col1, #T_338f2_row18_col2, #T_338f2_row18_col3, #T_338f2_row18_col4, #T_338f2_row18_col5, #T_338f2_row18_col6 {\n",
              "  text-align: left;\n",
              "}\n",
              "#T_338f2_row0_col1, #T_338f2_row0_col2, #T_338f2_row0_col3, #T_338f2_row0_col4, #T_338f2_row0_col5, #T_338f2_row0_col6, #T_338f2_row1_col2, #T_338f2_row2_col2, #T_338f2_row3_col2 {\n",
              "  text-align: left;\n",
              "  background-color: yellow;\n",
              "}\n",
              "#T_338f2_row0_col7, #T_338f2_row1_col7, #T_338f2_row2_col7, #T_338f2_row3_col7, #T_338f2_row4_col7, #T_338f2_row5_col7, #T_338f2_row6_col7, #T_338f2_row7_col7, #T_338f2_row8_col7, #T_338f2_row9_col7, #T_338f2_row10_col7, #T_338f2_row11_col7, #T_338f2_row12_col7, #T_338f2_row13_col7, #T_338f2_row14_col7, #T_338f2_row15_col7, #T_338f2_row16_col7, #T_338f2_row17_col7 {\n",
              "  text-align: left;\n",
              "  background-color: lightgrey;\n",
              "}\n",
              "#T_338f2_row18_col7 {\n",
              "  text-align: left;\n",
              "  background-color: yellow;\n",
              "  background-color: lightgrey;\n",
              "}\n",
              "</style>\n",
              "<table id=\"T_338f2\" class=\"dataframe\">\n",
              "  <thead>\n",
              "    <tr>\n",
              "      <th class=\"blank level0\" >&nbsp;</th>\n",
              "      <th id=\"T_338f2_level0_col0\" class=\"col_heading level0 col0\" >Model</th>\n",
              "      <th id=\"T_338f2_level0_col1\" class=\"col_heading level0 col1\" >MAE</th>\n",
              "      <th id=\"T_338f2_level0_col2\" class=\"col_heading level0 col2\" >MSE</th>\n",
              "      <th id=\"T_338f2_level0_col3\" class=\"col_heading level0 col3\" >RMSE</th>\n",
              "      <th id=\"T_338f2_level0_col4\" class=\"col_heading level0 col4\" >R2</th>\n",
              "      <th id=\"T_338f2_level0_col5\" class=\"col_heading level0 col5\" >RMSLE</th>\n",
              "      <th id=\"T_338f2_level0_col6\" class=\"col_heading level0 col6\" >MAPE</th>\n",
              "      <th id=\"T_338f2_level0_col7\" class=\"col_heading level0 col7\" >TT (Sec)</th>\n",
              "    </tr>\n",
              "  </thead>\n",
              "  <tbody>\n",
              "    <tr>\n",
              "      <th id=\"T_338f2_level0_row0\" class=\"row_heading level0 row0\" >et</th>\n",
              "      <td id=\"T_338f2_row0_col0\" class=\"data row0 col0\" >Extra Trees Regressor</td>\n",
              "      <td id=\"T_338f2_row0_col1\" class=\"data row0 col1\" >0.0077</td>\n",
              "      <td id=\"T_338f2_row0_col2\" class=\"data row0 col2\" >0.0002</td>\n",
              "      <td id=\"T_338f2_row0_col3\" class=\"data row0 col3\" >0.0139</td>\n",
              "      <td id=\"T_338f2_row0_col4\" class=\"data row0 col4\" >0.9979</td>\n",
              "      <td id=\"T_338f2_row0_col5\" class=\"data row0 col5\" >0.0085</td>\n",
              "      <td id=\"T_338f2_row0_col6\" class=\"data row0 col6\" >0.0235</td>\n",
              "      <td id=\"T_338f2_row0_col7\" class=\"data row0 col7\" >0.6800</td>\n",
              "    </tr>\n",
              "    <tr>\n",
              "      <th id=\"T_338f2_level0_row1\" class=\"row_heading level0 row1\" >xgboost</th>\n",
              "      <td id=\"T_338f2_row1_col0\" class=\"data row1 col0\" >Extreme Gradient Boosting</td>\n",
              "      <td id=\"T_338f2_row1_col1\" class=\"data row1 col1\" >0.0090</td>\n",
              "      <td id=\"T_338f2_row1_col2\" class=\"data row1 col2\" >0.0002</td>\n",
              "      <td id=\"T_338f2_row1_col3\" class=\"data row1 col3\" >0.0143</td>\n",
              "      <td id=\"T_338f2_row1_col4\" class=\"data row1 col4\" >0.9977</td>\n",
              "      <td id=\"T_338f2_row1_col5\" class=\"data row1 col5\" >0.0089</td>\n",
              "      <td id=\"T_338f2_row1_col6\" class=\"data row1 col6\" >0.0643</td>\n",
              "      <td id=\"T_338f2_row1_col7\" class=\"data row1 col7\" >0.3720</td>\n",
              "    </tr>\n",
              "    <tr>\n",
              "      <th id=\"T_338f2_level0_row2\" class=\"row_heading level0 row2\" >lightgbm</th>\n",
              "      <td id=\"T_338f2_row2_col0\" class=\"data row2 col0\" >Light Gradient Boosting Machine</td>\n",
              "      <td id=\"T_338f2_row2_col1\" class=\"data row2 col1\" >0.0097</td>\n",
              "      <td id=\"T_338f2_row2_col2\" class=\"data row2 col2\" >0.0002</td>\n",
              "      <td id=\"T_338f2_row2_col3\" class=\"data row2 col3\" >0.0152</td>\n",
              "      <td id=\"T_338f2_row2_col4\" class=\"data row2 col4\" >0.9975</td>\n",
              "      <td id=\"T_338f2_row2_col5\" class=\"data row2 col5\" >0.0095</td>\n",
              "      <td id=\"T_338f2_row2_col6\" class=\"data row2 col6\" >0.1350</td>\n",
              "      <td id=\"T_338f2_row2_col7\" class=\"data row2 col7\" >1.2600</td>\n",
              "    </tr>\n",
              "    <tr>\n",
              "      <th id=\"T_338f2_level0_row3\" class=\"row_heading level0 row3\" >rf</th>\n",
              "      <td id=\"T_338f2_row3_col0\" class=\"data row3 col0\" >Random Forest Regressor</td>\n",
              "      <td id=\"T_338f2_row3_col1\" class=\"data row3 col1\" >0.0090</td>\n",
              "      <td id=\"T_338f2_row3_col2\" class=\"data row3 col2\" >0.0002</td>\n",
              "      <td id=\"T_338f2_row3_col3\" class=\"data row3 col3\" >0.0157</td>\n",
              "      <td id=\"T_338f2_row3_col4\" class=\"data row3 col4\" >0.9973</td>\n",
              "      <td id=\"T_338f2_row3_col5\" class=\"data row3 col5\" >0.0097</td>\n",
              "      <td id=\"T_338f2_row3_col6\" class=\"data row3 col6\" >0.0368</td>\n",
              "      <td id=\"T_338f2_row3_col7\" class=\"data row3 col7\" >1.5300</td>\n",
              "    </tr>\n",
              "    <tr>\n",
              "      <th id=\"T_338f2_level0_row4\" class=\"row_heading level0 row4\" >gbr</th>\n",
              "      <td id=\"T_338f2_row4_col0\" class=\"data row4 col0\" >Gradient Boosting Regressor</td>\n",
              "      <td id=\"T_338f2_row4_col1\" class=\"data row4 col1\" >0.0122</td>\n",
              "      <td id=\"T_338f2_row4_col2\" class=\"data row4 col2\" >0.0003</td>\n",
              "      <td id=\"T_338f2_row4_col3\" class=\"data row4 col3\" >0.0186</td>\n",
              "      <td id=\"T_338f2_row4_col4\" class=\"data row4 col4\" >0.9962</td>\n",
              "      <td id=\"T_338f2_row4_col5\" class=\"data row4 col5\" >0.0115</td>\n",
              "      <td id=\"T_338f2_row4_col6\" class=\"data row4 col6\" >0.2322</td>\n",
              "      <td id=\"T_338f2_row4_col7\" class=\"data row4 col7\" >0.6900</td>\n",
              "    </tr>\n",
              "    <tr>\n",
              "      <th id=\"T_338f2_level0_row5\" class=\"row_heading level0 row5\" >lr</th>\n",
              "      <td id=\"T_338f2_row5_col0\" class=\"data row5 col0\" >Linear Regression</td>\n",
              "      <td id=\"T_338f2_row5_col1\" class=\"data row5 col1\" >0.0137</td>\n",
              "      <td id=\"T_338f2_row5_col2\" class=\"data row5 col2\" >0.0004</td>\n",
              "      <td id=\"T_338f2_row5_col3\" class=\"data row5 col3\" >0.0208</td>\n",
              "      <td id=\"T_338f2_row5_col4\" class=\"data row5 col4\" >0.9953</td>\n",
              "      <td id=\"T_338f2_row5_col5\" class=\"data row5 col5\" >0.0128</td>\n",
              "      <td id=\"T_338f2_row5_col6\" class=\"data row5 col6\" >0.1784</td>\n",
              "      <td id=\"T_338f2_row5_col7\" class=\"data row5 col7\" >1.2160</td>\n",
              "    </tr>\n",
              "    <tr>\n",
              "      <th id=\"T_338f2_level0_row6\" class=\"row_heading level0 row6\" >ridge</th>\n",
              "      <td id=\"T_338f2_row6_col0\" class=\"data row6 col0\" >Ridge Regression</td>\n",
              "      <td id=\"T_338f2_row6_col1\" class=\"data row6 col1\" >0.0137</td>\n",
              "      <td id=\"T_338f2_row6_col2\" class=\"data row6 col2\" >0.0004</td>\n",
              "      <td id=\"T_338f2_row6_col3\" class=\"data row6 col3\" >0.0208</td>\n",
              "      <td id=\"T_338f2_row6_col4\" class=\"data row6 col4\" >0.9953</td>\n",
              "      <td id=\"T_338f2_row6_col5\" class=\"data row6 col5\" >0.0128</td>\n",
              "      <td id=\"T_338f2_row6_col6\" class=\"data row6 col6\" >0.1784</td>\n",
              "      <td id=\"T_338f2_row6_col7\" class=\"data row6 col7\" >0.0460</td>\n",
              "    </tr>\n",
              "    <tr>\n",
              "      <th id=\"T_338f2_level0_row7\" class=\"row_heading level0 row7\" >lar</th>\n",
              "      <td id=\"T_338f2_row7_col0\" class=\"data row7 col0\" >Least Angle Regression</td>\n",
              "      <td id=\"T_338f2_row7_col1\" class=\"data row7 col1\" >0.0137</td>\n",
              "      <td id=\"T_338f2_row7_col2\" class=\"data row7 col2\" >0.0004</td>\n",
              "      <td id=\"T_338f2_row7_col3\" class=\"data row7 col3\" >0.0208</td>\n",
              "      <td id=\"T_338f2_row7_col4\" class=\"data row7 col4\" >0.9953</td>\n",
              "      <td id=\"T_338f2_row7_col5\" class=\"data row7 col5\" >0.0128</td>\n",
              "      <td id=\"T_338f2_row7_col6\" class=\"data row7 col6\" >0.1784</td>\n",
              "      <td id=\"T_338f2_row7_col7\" class=\"data row7 col7\" >0.0460</td>\n",
              "    </tr>\n",
              "    <tr>\n",
              "      <th id=\"T_338f2_level0_row8\" class=\"row_heading level0 row8\" >br</th>\n",
              "      <td id=\"T_338f2_row8_col0\" class=\"data row8 col0\" >Bayesian Ridge</td>\n",
              "      <td id=\"T_338f2_row8_col1\" class=\"data row8 col1\" >0.0137</td>\n",
              "      <td id=\"T_338f2_row8_col2\" class=\"data row8 col2\" >0.0004</td>\n",
              "      <td id=\"T_338f2_row8_col3\" class=\"data row8 col3\" >0.0208</td>\n",
              "      <td id=\"T_338f2_row8_col4\" class=\"data row8 col4\" >0.9953</td>\n",
              "      <td id=\"T_338f2_row8_col5\" class=\"data row8 col5\" >0.0128</td>\n",
              "      <td id=\"T_338f2_row8_col6\" class=\"data row8 col6\" >0.1727</td>\n",
              "      <td id=\"T_338f2_row8_col7\" class=\"data row8 col7\" >0.0440</td>\n",
              "    </tr>\n",
              "    <tr>\n",
              "      <th id=\"T_338f2_level0_row9\" class=\"row_heading level0 row9\" >dt</th>\n",
              "      <td id=\"T_338f2_row9_col0\" class=\"data row9 col0\" >Decision Tree Regressor</td>\n",
              "      <td id=\"T_338f2_row9_col1\" class=\"data row9 col1\" >0.0107</td>\n",
              "      <td id=\"T_338f2_row9_col2\" class=\"data row9 col2\" >0.0005</td>\n",
              "      <td id=\"T_338f2_row9_col3\" class=\"data row9 col3\" >0.0212</td>\n",
              "      <td id=\"T_338f2_row9_col4\" class=\"data row9 col4\" >0.9950</td>\n",
              "      <td id=\"T_338f2_row9_col5\" class=\"data row9 col5\" >0.0130</td>\n",
              "      <td id=\"T_338f2_row9_col6\" class=\"data row9 col6\" >0.0373</td>\n",
              "      <td id=\"T_338f2_row9_col7\" class=\"data row9 col7\" >0.0960</td>\n",
              "    </tr>\n",
              "    <tr>\n",
              "      <th id=\"T_338f2_level0_row10\" class=\"row_heading level0 row10\" >llar</th>\n",
              "      <td id=\"T_338f2_row10_col0\" class=\"data row10 col0\" >Lasso Least Angle Regression</td>\n",
              "      <td id=\"T_338f2_row10_col1\" class=\"data row10 col1\" >0.0144</td>\n",
              "      <td id=\"T_338f2_row10_col2\" class=\"data row10 col2\" >0.0005</td>\n",
              "      <td id=\"T_338f2_row10_col3\" class=\"data row10 col3\" >0.0215</td>\n",
              "      <td id=\"T_338f2_row10_col4\" class=\"data row10 col4\" >0.9949</td>\n",
              "      <td id=\"T_338f2_row10_col5\" class=\"data row10 col5\" >0.0132</td>\n",
              "      <td id=\"T_338f2_row10_col6\" class=\"data row10 col6\" >0.2018</td>\n",
              "      <td id=\"T_338f2_row10_col7\" class=\"data row10 col7\" >0.0440</td>\n",
              "    </tr>\n",
              "    <tr>\n",
              "      <th id=\"T_338f2_level0_row11\" class=\"row_heading level0 row11\" >lasso</th>\n",
              "      <td id=\"T_338f2_row11_col0\" class=\"data row11 col0\" >Lasso Regression</td>\n",
              "      <td id=\"T_338f2_row11_col1\" class=\"data row11 col1\" >0.0145</td>\n",
              "      <td id=\"T_338f2_row11_col2\" class=\"data row11 col2\" >0.0005</td>\n",
              "      <td id=\"T_338f2_row11_col3\" class=\"data row11 col3\" >0.0215</td>\n",
              "      <td id=\"T_338f2_row11_col4\" class=\"data row11 col4\" >0.9949</td>\n",
              "      <td id=\"T_338f2_row11_col5\" class=\"data row11 col5\" >0.0133</td>\n",
              "      <td id=\"T_338f2_row11_col6\" class=\"data row11 col6\" >0.2025</td>\n",
              "      <td id=\"T_338f2_row11_col7\" class=\"data row11 col7\" >0.0560</td>\n",
              "    </tr>\n",
              "    <tr>\n",
              "      <th id=\"T_338f2_level0_row12\" class=\"row_heading level0 row12\" >en</th>\n",
              "      <td id=\"T_338f2_row12_col0\" class=\"data row12 col0\" >Elastic Net</td>\n",
              "      <td id=\"T_338f2_row12_col1\" class=\"data row12 col1\" >0.0142</td>\n",
              "      <td id=\"T_338f2_row12_col2\" class=\"data row12 col2\" >0.0005</td>\n",
              "      <td id=\"T_338f2_row12_col3\" class=\"data row12 col3\" >0.0214</td>\n",
              "      <td id=\"T_338f2_row12_col4\" class=\"data row12 col4\" >0.9949</td>\n",
              "      <td id=\"T_338f2_row12_col5\" class=\"data row12 col5\" >0.0132</td>\n",
              "      <td id=\"T_338f2_row12_col6\" class=\"data row12 col6\" >0.1174</td>\n",
              "      <td id=\"T_338f2_row12_col7\" class=\"data row12 col7\" >0.0560</td>\n",
              "    </tr>\n",
              "    <tr>\n",
              "      <th id=\"T_338f2_level0_row13\" class=\"row_heading level0 row13\" >ada</th>\n",
              "      <td id=\"T_338f2_row13_col0\" class=\"data row13 col0\" >AdaBoost Regressor</td>\n",
              "      <td id=\"T_338f2_row13_col1\" class=\"data row13 col1\" >0.0231</td>\n",
              "      <td id=\"T_338f2_row13_col2\" class=\"data row13 col2\" >0.0008</td>\n",
              "      <td id=\"T_338f2_row13_col3\" class=\"data row13 col3\" >0.0291</td>\n",
              "      <td id=\"T_338f2_row13_col4\" class=\"data row13 col4\" >0.9907</td>\n",
              "      <td id=\"T_338f2_row13_col5\" class=\"data row13 col5\" >0.0211</td>\n",
              "      <td id=\"T_338f2_row13_col6\" class=\"data row13 col6\" >2.9791</td>\n",
              "      <td id=\"T_338f2_row13_col7\" class=\"data row13 col7\" >0.2220</td>\n",
              "    </tr>\n",
              "    <tr>\n",
              "      <th id=\"T_338f2_level0_row14\" class=\"row_heading level0 row14\" >par</th>\n",
              "      <td id=\"T_338f2_row14_col0\" class=\"data row14 col0\" >Passive Aggressive Regressor</td>\n",
              "      <td id=\"T_338f2_row14_col1\" class=\"data row14 col1\" >0.0524</td>\n",
              "      <td id=\"T_338f2_row14_col2\" class=\"data row14 col2\" >0.0037</td>\n",
              "      <td id=\"T_338f2_row14_col3\" class=\"data row14 col3\" >0.0609</td>\n",
              "      <td id=\"T_338f2_row14_col4\" class=\"data row14 col4\" >0.9592</td>\n",
              "      <td id=\"T_338f2_row14_col5\" class=\"data row14 col5\" >0.0498</td>\n",
              "      <td id=\"T_338f2_row14_col6\" class=\"data row14 col6\" >6.9472</td>\n",
              "      <td id=\"T_338f2_row14_col7\" class=\"data row14 col7\" >0.0460</td>\n",
              "    </tr>\n",
              "    <tr>\n",
              "      <th id=\"T_338f2_level0_row15\" class=\"row_heading level0 row15\" >huber</th>\n",
              "      <td id=\"T_338f2_row15_col0\" class=\"data row15 col0\" >Huber Regressor</td>\n",
              "      <td id=\"T_338f2_row15_col1\" class=\"data row15 col1\" >0.1252</td>\n",
              "      <td id=\"T_338f2_row15_col2\" class=\"data row15 col2\" >0.0213</td>\n",
              "      <td id=\"T_338f2_row15_col3\" class=\"data row15 col3\" >0.1458</td>\n",
              "      <td id=\"T_338f2_row15_col4\" class=\"data row15 col4\" >0.7666</td>\n",
              "      <td id=\"T_338f2_row15_col5\" class=\"data row15 col5\" >0.1139</td>\n",
              "      <td id=\"T_338f2_row15_col6\" class=\"data row15 col6\" >17.3365</td>\n",
              "      <td id=\"T_338f2_row15_col7\" class=\"data row15 col7\" >0.0600</td>\n",
              "    </tr>\n",
              "    <tr>\n",
              "      <th id=\"T_338f2_level0_row16\" class=\"row_heading level0 row16\" >knn</th>\n",
              "      <td id=\"T_338f2_row16_col0\" class=\"data row16 col0\" >K Neighbors Regressor</td>\n",
              "      <td id=\"T_338f2_row16_col1\" class=\"data row16 col1\" >0.2089</td>\n",
              "      <td id=\"T_338f2_row16_col2\" class=\"data row16 col2\" >0.0737</td>\n",
              "      <td id=\"T_338f2_row16_col3\" class=\"data row16 col3\" >0.2715</td>\n",
              "      <td id=\"T_338f2_row16_col4\" class=\"data row16 col4\" >0.1896</td>\n",
              "      <td id=\"T_338f2_row16_col5\" class=\"data row16 col5\" >0.1879</td>\n",
              "      <td id=\"T_338f2_row16_col6\" class=\"data row16 col6\" >4.1366</td>\n",
              "      <td id=\"T_338f2_row16_col7\" class=\"data row16 col7\" >0.0560</td>\n",
              "    </tr>\n",
              "    <tr>\n",
              "      <th id=\"T_338f2_level0_row17\" class=\"row_heading level0 row17\" >omp</th>\n",
              "      <td id=\"T_338f2_row17_col0\" class=\"data row17 col0\" >Orthogonal Matching Pursuit</td>\n",
              "      <td id=\"T_338f2_row17_col1\" class=\"data row17 col1\" >0.2506</td>\n",
              "      <td id=\"T_338f2_row17_col2\" class=\"data row17 col2\" >0.0897</td>\n",
              "      <td id=\"T_338f2_row17_col3\" class=\"data row17 col3\" >0.2995</td>\n",
              "      <td id=\"T_338f2_row17_col4\" class=\"data row17 col4\" >0.0148</td>\n",
              "      <td id=\"T_338f2_row17_col5\" class=\"data row17 col5\" >0.2129</td>\n",
              "      <td id=\"T_338f2_row17_col6\" class=\"data row17 col6\" >29.0639</td>\n",
              "      <td id=\"T_338f2_row17_col7\" class=\"data row17 col7\" >0.0440</td>\n",
              "    </tr>\n",
              "    <tr>\n",
              "      <th id=\"T_338f2_level0_row18\" class=\"row_heading level0 row18\" >dummy</th>\n",
              "      <td id=\"T_338f2_row18_col0\" class=\"data row18 col0\" >Dummy Regressor</td>\n",
              "      <td id=\"T_338f2_row18_col1\" class=\"data row18 col1\" >0.2529</td>\n",
              "      <td id=\"T_338f2_row18_col2\" class=\"data row18 col2\" >0.0912</td>\n",
              "      <td id=\"T_338f2_row18_col3\" class=\"data row18 col3\" >0.3020</td>\n",
              "      <td id=\"T_338f2_row18_col4\" class=\"data row18 col4\" >-0.0014</td>\n",
              "      <td id=\"T_338f2_row18_col5\" class=\"data row18 col5\" >0.2151</td>\n",
              "      <td id=\"T_338f2_row18_col6\" class=\"data row18 col6\" >30.5233</td>\n",
              "      <td id=\"T_338f2_row18_col7\" class=\"data row18 col7\" >0.0420</td>\n",
              "    </tr>\n",
              "  </tbody>\n",
              "</table>\n"
            ]
          },
          "metadata": {}
        },
        {
          "output_type": "display_data",
          "data": {
            "text/plain": [
              "Processing:   0%|          | 0/81 [00:00<?, ?it/s]"
            ],
            "application/vnd.jupyter.widget-view+json": {
              "version_major": 2,
              "version_minor": 0,
              "model_id": "1862f4cc9c1742c29effd1a36ac9511f"
            }
          },
          "metadata": {
            "application/vnd.jupyter.widget-view+json": {
              "colab": {
                "custom_widget_manager": {
                  "url": "https://ssl.gstatic.com/colaboratory-static/widgets/colab-cdn-widget-manager/2b70e893a8ba7c0f/manager.min.js"
                }
              }
            }
          }
        },
        {
          "output_type": "display_data",
          "data": {
            "text/plain": [
              "<IPython.core.display.HTML object>"
            ],
            "text/html": []
          },
          "metadata": {}
        }
      ]
    },
    {
      "cell_type": "code",
      "source": [
        "# Membuat model terbaik\n",
        "model = create_model(best_model)"
      ],
      "metadata": {
        "colab": {
          "base_uri": "https://localhost:8080/",
          "height": 300,
          "referenced_widgets": [
            "911413a7bef14788939500a4d8989eae",
            "85a83f9d7a42419481735b3e41cbe611",
            "ab2e068c03d44b2991953080ff7e7661",
            "d693236c8880496fa60522c1075af621",
            "b7934ad5e15d42f4a841a0c6d7b0f762",
            "57f6faf634124a908248ea11daefea9c",
            "35cfbb19a7ac4fc28be3cc79a07291dc",
            "3f0fcb2267224d7ab66acf4ffd215dd8",
            "95e9fb84dbde49ea85fd7c106b110a7d",
            "55f1d825c6bb42429498912241714da9",
            "d105e9797edf4e2da591beb28255be37"
          ]
        },
        "id": "6sDjdjnyg-Mz",
        "outputId": "4bae8a30-7f9f-4fdf-b19b-e8163973c3c4"
      },
      "execution_count": null,
      "outputs": [
        {
          "output_type": "display_data",
          "data": {
            "text/plain": [
              "<IPython.core.display.HTML object>"
            ],
            "text/html": []
          },
          "metadata": {}
        },
        {
          "output_type": "display_data",
          "data": {
            "text/plain": [
              "<pandas.io.formats.style.Styler at 0x795db426a680>"
            ],
            "text/html": [
              "<style type=\"text/css\">\n",
              "#T_4d0ef_row5_col0, #T_4d0ef_row5_col1, #T_4d0ef_row5_col2, #T_4d0ef_row5_col3, #T_4d0ef_row5_col4, #T_4d0ef_row5_col5 {\n",
              "  background: yellow;\n",
              "}\n",
              "</style>\n",
              "<table id=\"T_4d0ef\" class=\"dataframe\">\n",
              "  <thead>\n",
              "    <tr>\n",
              "      <th class=\"blank level0\" >&nbsp;</th>\n",
              "      <th id=\"T_4d0ef_level0_col0\" class=\"col_heading level0 col0\" >MAE</th>\n",
              "      <th id=\"T_4d0ef_level0_col1\" class=\"col_heading level0 col1\" >MSE</th>\n",
              "      <th id=\"T_4d0ef_level0_col2\" class=\"col_heading level0 col2\" >RMSE</th>\n",
              "      <th id=\"T_4d0ef_level0_col3\" class=\"col_heading level0 col3\" >R2</th>\n",
              "      <th id=\"T_4d0ef_level0_col4\" class=\"col_heading level0 col4\" >RMSLE</th>\n",
              "      <th id=\"T_4d0ef_level0_col5\" class=\"col_heading level0 col5\" >MAPE</th>\n",
              "    </tr>\n",
              "    <tr>\n",
              "      <th class=\"index_name level0\" >Fold</th>\n",
              "      <th class=\"blank col0\" >&nbsp;</th>\n",
              "      <th class=\"blank col1\" >&nbsp;</th>\n",
              "      <th class=\"blank col2\" >&nbsp;</th>\n",
              "      <th class=\"blank col3\" >&nbsp;</th>\n",
              "      <th class=\"blank col4\" >&nbsp;</th>\n",
              "      <th class=\"blank col5\" >&nbsp;</th>\n",
              "    </tr>\n",
              "  </thead>\n",
              "  <tbody>\n",
              "    <tr>\n",
              "      <th id=\"T_4d0ef_level0_row0\" class=\"row_heading level0 row0\" >0</th>\n",
              "      <td id=\"T_4d0ef_row0_col0\" class=\"data row0 col0\" >0.0068</td>\n",
              "      <td id=\"T_4d0ef_row0_col1\" class=\"data row0 col1\" >0.0001</td>\n",
              "      <td id=\"T_4d0ef_row0_col2\" class=\"data row0 col2\" >0.0117</td>\n",
              "      <td id=\"T_4d0ef_row0_col3\" class=\"data row0 col3\" >0.9985</td>\n",
              "      <td id=\"T_4d0ef_row0_col4\" class=\"data row0 col4\" >0.0073</td>\n",
              "      <td id=\"T_4d0ef_row0_col5\" class=\"data row0 col5\" >0.0259</td>\n",
              "    </tr>\n",
              "    <tr>\n",
              "      <th id=\"T_4d0ef_level0_row1\" class=\"row_heading level0 row1\" >1</th>\n",
              "      <td id=\"T_4d0ef_row1_col0\" class=\"data row1 col0\" >0.0076</td>\n",
              "      <td id=\"T_4d0ef_row1_col1\" class=\"data row1 col1\" >0.0002</td>\n",
              "      <td id=\"T_4d0ef_row1_col2\" class=\"data row1 col2\" >0.0132</td>\n",
              "      <td id=\"T_4d0ef_row1_col3\" class=\"data row1 col3\" >0.9981</td>\n",
              "      <td id=\"T_4d0ef_row1_col4\" class=\"data row1 col4\" >0.0080</td>\n",
              "      <td id=\"T_4d0ef_row1_col5\" class=\"data row1 col5\" >0.0204</td>\n",
              "    </tr>\n",
              "    <tr>\n",
              "      <th id=\"T_4d0ef_level0_row2\" class=\"row_heading level0 row2\" >2</th>\n",
              "      <td id=\"T_4d0ef_row2_col0\" class=\"data row2 col0\" >0.0078</td>\n",
              "      <td id=\"T_4d0ef_row2_col1\" class=\"data row2 col1\" >0.0002</td>\n",
              "      <td id=\"T_4d0ef_row2_col2\" class=\"data row2 col2\" >0.0149</td>\n",
              "      <td id=\"T_4d0ef_row2_col3\" class=\"data row2 col3\" >0.9976</td>\n",
              "      <td id=\"T_4d0ef_row2_col4\" class=\"data row2 col4\" >0.0090</td>\n",
              "      <td id=\"T_4d0ef_row2_col5\" class=\"data row2 col5\" >0.0241</td>\n",
              "    </tr>\n",
              "    <tr>\n",
              "      <th id=\"T_4d0ef_level0_row3\" class=\"row_heading level0 row3\" >3</th>\n",
              "      <td id=\"T_4d0ef_row3_col0\" class=\"data row3 col0\" >0.0081</td>\n",
              "      <td id=\"T_4d0ef_row3_col1\" class=\"data row3 col1\" >0.0002</td>\n",
              "      <td id=\"T_4d0ef_row3_col2\" class=\"data row3 col2\" >0.0148</td>\n",
              "      <td id=\"T_4d0ef_row3_col3\" class=\"data row3 col3\" >0.9974</td>\n",
              "      <td id=\"T_4d0ef_row3_col4\" class=\"data row3 col4\" >0.0092</td>\n",
              "      <td id=\"T_4d0ef_row3_col5\" class=\"data row3 col5\" >0.0261</td>\n",
              "    </tr>\n",
              "    <tr>\n",
              "      <th id=\"T_4d0ef_level0_row4\" class=\"row_heading level0 row4\" >4</th>\n",
              "      <td id=\"T_4d0ef_row4_col0\" class=\"data row4 col0\" >0.0080</td>\n",
              "      <td id=\"T_4d0ef_row4_col1\" class=\"data row4 col1\" >0.0002</td>\n",
              "      <td id=\"T_4d0ef_row4_col2\" class=\"data row4 col2\" >0.0149</td>\n",
              "      <td id=\"T_4d0ef_row4_col3\" class=\"data row4 col3\" >0.9976</td>\n",
              "      <td id=\"T_4d0ef_row4_col4\" class=\"data row4 col4\" >0.0089</td>\n",
              "      <td id=\"T_4d0ef_row4_col5\" class=\"data row4 col5\" >0.0210</td>\n",
              "    </tr>\n",
              "    <tr>\n",
              "      <th id=\"T_4d0ef_level0_row5\" class=\"row_heading level0 row5\" >Mean</th>\n",
              "      <td id=\"T_4d0ef_row5_col0\" class=\"data row5 col0\" >0.0077</td>\n",
              "      <td id=\"T_4d0ef_row5_col1\" class=\"data row5 col1\" >0.0002</td>\n",
              "      <td id=\"T_4d0ef_row5_col2\" class=\"data row5 col2\" >0.0139</td>\n",
              "      <td id=\"T_4d0ef_row5_col3\" class=\"data row5 col3\" >0.9979</td>\n",
              "      <td id=\"T_4d0ef_row5_col4\" class=\"data row5 col4\" >0.0085</td>\n",
              "      <td id=\"T_4d0ef_row5_col5\" class=\"data row5 col5\" >0.0235</td>\n",
              "    </tr>\n",
              "    <tr>\n",
              "      <th id=\"T_4d0ef_level0_row6\" class=\"row_heading level0 row6\" >Std</th>\n",
              "      <td id=\"T_4d0ef_row6_col0\" class=\"data row6 col0\" >0.0005</td>\n",
              "      <td id=\"T_4d0ef_row6_col1\" class=\"data row6 col1\" >0.0000</td>\n",
              "      <td id=\"T_4d0ef_row6_col2\" class=\"data row6 col2\" >0.0013</td>\n",
              "      <td id=\"T_4d0ef_row6_col3\" class=\"data row6 col3\" >0.0004</td>\n",
              "      <td id=\"T_4d0ef_row6_col4\" class=\"data row6 col4\" >0.0007</td>\n",
              "      <td id=\"T_4d0ef_row6_col5\" class=\"data row6 col5\" >0.0024</td>\n",
              "    </tr>\n",
              "  </tbody>\n",
              "</table>\n"
            ]
          },
          "metadata": {}
        },
        {
          "output_type": "display_data",
          "data": {
            "text/plain": [
              "Processing:   0%|          | 0/4 [00:00<?, ?it/s]"
            ],
            "application/vnd.jupyter.widget-view+json": {
              "version_major": 2,
              "version_minor": 0,
              "model_id": "911413a7bef14788939500a4d8989eae"
            }
          },
          "metadata": {
            "application/vnd.jupyter.widget-view+json": {
              "colab": {
                "custom_widget_manager": {
                  "url": "https://ssl.gstatic.com/colaboratory-static/widgets/colab-cdn-widget-manager/2b70e893a8ba7c0f/manager.min.js"
                }
              }
            }
          }
        },
        {
          "output_type": "display_data",
          "data": {
            "text/plain": [
              "<IPython.core.display.HTML object>"
            ],
            "text/html": []
          },
          "metadata": {}
        }
      ]
    },
    {
      "cell_type": "code",
      "source": [
        "# Melatih model terbaik\n",
        "model = tune_model(model)"
      ],
      "metadata": {
        "colab": {
          "base_uri": "https://localhost:8080/",
          "height": 355,
          "referenced_widgets": [
            "117b2358fc5847fb9a1191009883a63f",
            "d29487f05d41413dbfd0c76bdefa2ba0",
            "b76ddaf901114c7094d2d017459800d9",
            "1b1296ad58314844bd54ae2b27691117",
            "14a0e7972a1942f2b5110cee0d11da55",
            "dbbc7504a3cd415093f0c99d4ec114bc",
            "48792c4ae90f46afa3e28fcdd07c189b",
            "b8170fec16d6440381c3c5fae7c8d443",
            "9b13a0817e5b42c1ba8c1cf3f0d0d0cc",
            "8279c69347124ab58bcce7baf1b0c69f",
            "a472b861527f42439feedf9c15fee272"
          ]
        },
        "id": "1KxWivwMg_gq",
        "outputId": "46404190-f142-42e8-e9c1-0923e295b36e"
      },
      "execution_count": null,
      "outputs": [
        {
          "output_type": "display_data",
          "data": {
            "text/plain": [
              "<IPython.core.display.HTML object>"
            ],
            "text/html": []
          },
          "metadata": {}
        },
        {
          "output_type": "display_data",
          "data": {
            "text/plain": [
              "<pandas.io.formats.style.Styler at 0x795db4fe00a0>"
            ],
            "text/html": [
              "<style type=\"text/css\">\n",
              "#T_6cb36_row5_col0, #T_6cb36_row5_col1, #T_6cb36_row5_col2, #T_6cb36_row5_col3, #T_6cb36_row5_col4, #T_6cb36_row5_col5 {\n",
              "  background: yellow;\n",
              "}\n",
              "</style>\n",
              "<table id=\"T_6cb36\" class=\"dataframe\">\n",
              "  <thead>\n",
              "    <tr>\n",
              "      <th class=\"blank level0\" >&nbsp;</th>\n",
              "      <th id=\"T_6cb36_level0_col0\" class=\"col_heading level0 col0\" >MAE</th>\n",
              "      <th id=\"T_6cb36_level0_col1\" class=\"col_heading level0 col1\" >MSE</th>\n",
              "      <th id=\"T_6cb36_level0_col2\" class=\"col_heading level0 col2\" >RMSE</th>\n",
              "      <th id=\"T_6cb36_level0_col3\" class=\"col_heading level0 col3\" >R2</th>\n",
              "      <th id=\"T_6cb36_level0_col4\" class=\"col_heading level0 col4\" >RMSLE</th>\n",
              "      <th id=\"T_6cb36_level0_col5\" class=\"col_heading level0 col5\" >MAPE</th>\n",
              "    </tr>\n",
              "    <tr>\n",
              "      <th class=\"index_name level0\" >Fold</th>\n",
              "      <th class=\"blank col0\" >&nbsp;</th>\n",
              "      <th class=\"blank col1\" >&nbsp;</th>\n",
              "      <th class=\"blank col2\" >&nbsp;</th>\n",
              "      <th class=\"blank col3\" >&nbsp;</th>\n",
              "      <th class=\"blank col4\" >&nbsp;</th>\n",
              "      <th class=\"blank col5\" >&nbsp;</th>\n",
              "    </tr>\n",
              "  </thead>\n",
              "  <tbody>\n",
              "    <tr>\n",
              "      <th id=\"T_6cb36_level0_row0\" class=\"row_heading level0 row0\" >0</th>\n",
              "      <td id=\"T_6cb36_row0_col0\" class=\"data row0 col0\" >0.0183</td>\n",
              "      <td id=\"T_6cb36_row0_col1\" class=\"data row0 col1\" >0.0006</td>\n",
              "      <td id=\"T_6cb36_row0_col2\" class=\"data row0 col2\" >0.0238</td>\n",
              "      <td id=\"T_6cb36_row0_col3\" class=\"data row0 col3\" >0.9938</td>\n",
              "      <td id=\"T_6cb36_row0_col4\" class=\"data row0 col4\" >0.0155</td>\n",
              "      <td id=\"T_6cb36_row0_col5\" class=\"data row0 col5\" >1.5615</td>\n",
              "    </tr>\n",
              "    <tr>\n",
              "      <th id=\"T_6cb36_level0_row1\" class=\"row_heading level0 row1\" >1</th>\n",
              "      <td id=\"T_6cb36_row1_col0\" class=\"data row1 col0\" >0.0200</td>\n",
              "      <td id=\"T_6cb36_row1_col1\" class=\"data row1 col1\" >0.0007</td>\n",
              "      <td id=\"T_6cb36_row1_col2\" class=\"data row1 col2\" >0.0259</td>\n",
              "      <td id=\"T_6cb36_row1_col3\" class=\"data row1 col3\" >0.9928</td>\n",
              "      <td id=\"T_6cb36_row1_col4\" class=\"data row1 col4\" >0.0163</td>\n",
              "      <td id=\"T_6cb36_row1_col5\" class=\"data row1 col5\" >1.2291</td>\n",
              "    </tr>\n",
              "    <tr>\n",
              "      <th id=\"T_6cb36_level0_row2\" class=\"row_heading level0 row2\" >2</th>\n",
              "      <td id=\"T_6cb36_row2_col0\" class=\"data row2 col0\" >0.0214</td>\n",
              "      <td id=\"T_6cb36_row2_col1\" class=\"data row2 col1\" >0.0008</td>\n",
              "      <td id=\"T_6cb36_row2_col2\" class=\"data row2 col2\" >0.0279</td>\n",
              "      <td id=\"T_6cb36_row2_col3\" class=\"data row2 col3\" >0.9916</td>\n",
              "      <td id=\"T_6cb36_row2_col4\" class=\"data row2 col4\" >0.0180</td>\n",
              "      <td id=\"T_6cb36_row2_col5\" class=\"data row2 col5\" >2.1692</td>\n",
              "    </tr>\n",
              "    <tr>\n",
              "      <th id=\"T_6cb36_level0_row3\" class=\"row_heading level0 row3\" >3</th>\n",
              "      <td id=\"T_6cb36_row3_col0\" class=\"data row3 col0\" >0.0190</td>\n",
              "      <td id=\"T_6cb36_row3_col1\" class=\"data row3 col1\" >0.0007</td>\n",
              "      <td id=\"T_6cb36_row3_col2\" class=\"data row3 col2\" >0.0256</td>\n",
              "      <td id=\"T_6cb36_row3_col3\" class=\"data row3 col3\" >0.9923</td>\n",
              "      <td id=\"T_6cb36_row3_col4\" class=\"data row3 col4\" >0.0165</td>\n",
              "      <td id=\"T_6cb36_row3_col5\" class=\"data row3 col5\" >0.7472</td>\n",
              "    </tr>\n",
              "    <tr>\n",
              "      <th id=\"T_6cb36_level0_row4\" class=\"row_heading level0 row4\" >4</th>\n",
              "      <td id=\"T_6cb36_row4_col0\" class=\"data row4 col0\" >0.0188</td>\n",
              "      <td id=\"T_6cb36_row4_col1\" class=\"data row4 col1\" >0.0007</td>\n",
              "      <td id=\"T_6cb36_row4_col2\" class=\"data row4 col2\" >0.0258</td>\n",
              "      <td id=\"T_6cb36_row4_col3\" class=\"data row4 col3\" >0.9928</td>\n",
              "      <td id=\"T_6cb36_row4_col4\" class=\"data row4 col4\" >0.0165</td>\n",
              "      <td id=\"T_6cb36_row4_col5\" class=\"data row4 col5\" >1.9581</td>\n",
              "    </tr>\n",
              "    <tr>\n",
              "      <th id=\"T_6cb36_level0_row5\" class=\"row_heading level0 row5\" >Mean</th>\n",
              "      <td id=\"T_6cb36_row5_col0\" class=\"data row5 col0\" >0.0195</td>\n",
              "      <td id=\"T_6cb36_row5_col1\" class=\"data row5 col1\" >0.0007</td>\n",
              "      <td id=\"T_6cb36_row5_col2\" class=\"data row5 col2\" >0.0258</td>\n",
              "      <td id=\"T_6cb36_row5_col3\" class=\"data row5 col3\" >0.9927</td>\n",
              "      <td id=\"T_6cb36_row5_col4\" class=\"data row5 col4\" >0.0165</td>\n",
              "      <td id=\"T_6cb36_row5_col5\" class=\"data row5 col5\" >1.5330</td>\n",
              "    </tr>\n",
              "    <tr>\n",
              "      <th id=\"T_6cb36_level0_row6\" class=\"row_heading level0 row6\" >Std</th>\n",
              "      <td id=\"T_6cb36_row6_col0\" class=\"data row6 col0\" >0.0011</td>\n",
              "      <td id=\"T_6cb36_row6_col1\" class=\"data row6 col1\" >0.0001</td>\n",
              "      <td id=\"T_6cb36_row6_col2\" class=\"data row6 col2\" >0.0013</td>\n",
              "      <td id=\"T_6cb36_row6_col3\" class=\"data row6 col3\" >0.0007</td>\n",
              "      <td id=\"T_6cb36_row6_col4\" class=\"data row6 col4\" >0.0008</td>\n",
              "      <td id=\"T_6cb36_row6_col5\" class=\"data row6 col5\" >0.5091</td>\n",
              "    </tr>\n",
              "  </tbody>\n",
              "</table>\n"
            ]
          },
          "metadata": {}
        },
        {
          "output_type": "display_data",
          "data": {
            "text/plain": [
              "Processing:   0%|          | 0/7 [00:00<?, ?it/s]"
            ],
            "application/vnd.jupyter.widget-view+json": {
              "version_major": 2,
              "version_minor": 0,
              "model_id": "117b2358fc5847fb9a1191009883a63f"
            }
          },
          "metadata": {
            "application/vnd.jupyter.widget-view+json": {
              "colab": {
                "custom_widget_manager": {
                  "url": "https://ssl.gstatic.com/colaboratory-static/widgets/colab-cdn-widget-manager/2b70e893a8ba7c0f/manager.min.js"
                }
              }
            }
          }
        },
        {
          "output_type": "stream",
          "name": "stdout",
          "text": [
            "Fitting 5 folds for each of 10 candidates, totalling 50 fits\n"
          ]
        },
        {
          "output_type": "display_data",
          "data": {
            "text/plain": [
              "<IPython.core.display.HTML object>"
            ],
            "text/html": []
          },
          "metadata": {}
        },
        {
          "output_type": "stream",
          "name": "stdout",
          "text": [
            "Original model was better than the tuned model, hence it will be returned. NOTE: The display metrics are for the tuned model (not the original one).\n"
          ]
        }
      ]
    },
    {
      "cell_type": "code",
      "source": [
        "# Memprediksi data uji\n",
        "predictions = predict_model(model, data=test_data)"
      ],
      "metadata": {
        "colab": {
          "base_uri": "https://localhost:8080/",
          "height": 81
        },
        "id": "OUoaAgAwhA-S",
        "outputId": "7f353297-83ec-4c07-a875-84ddf2303d34"
      },
      "execution_count": null,
      "outputs": [
        {
          "output_type": "display_data",
          "data": {
            "text/plain": [
              "<pandas.io.formats.style.Styler at 0x795db4cee260>"
            ],
            "text/html": [
              "<style type=\"text/css\">\n",
              "</style>\n",
              "<table id=\"T_60291\" class=\"dataframe\">\n",
              "  <thead>\n",
              "    <tr>\n",
              "      <th class=\"blank level0\" >&nbsp;</th>\n",
              "      <th id=\"T_60291_level0_col0\" class=\"col_heading level0 col0\" >Model</th>\n",
              "      <th id=\"T_60291_level0_col1\" class=\"col_heading level0 col1\" >MAE</th>\n",
              "      <th id=\"T_60291_level0_col2\" class=\"col_heading level0 col2\" >MSE</th>\n",
              "      <th id=\"T_60291_level0_col3\" class=\"col_heading level0 col3\" >RMSE</th>\n",
              "      <th id=\"T_60291_level0_col4\" class=\"col_heading level0 col4\" >R2</th>\n",
              "      <th id=\"T_60291_level0_col5\" class=\"col_heading level0 col5\" >RMSLE</th>\n",
              "      <th id=\"T_60291_level0_col6\" class=\"col_heading level0 col6\" >MAPE</th>\n",
              "    </tr>\n",
              "  </thead>\n",
              "  <tbody>\n",
              "    <tr>\n",
              "      <th id=\"T_60291_level0_row0\" class=\"row_heading level0 row0\" >0</th>\n",
              "      <td id=\"T_60291_row0_col0\" class=\"data row0 col0\" >Extra Trees Regressor</td>\n",
              "      <td id=\"T_60291_row0_col1\" class=\"data row0 col1\" >0.0216</td>\n",
              "      <td id=\"T_60291_row0_col2\" class=\"data row0 col2\" >0.0007</td>\n",
              "      <td id=\"T_60291_row0_col3\" class=\"data row0 col3\" >0.0272</td>\n",
              "      <td id=\"T_60291_row0_col4\" class=\"data row0 col4\" >0.8871</td>\n",
              "      <td id=\"T_60291_row0_col5\" class=\"data row0 col5\" >0.0205</td>\n",
              "      <td id=\"T_60291_row0_col6\" class=\"data row0 col6\" >0.0695</td>\n",
              "    </tr>\n",
              "  </tbody>\n",
              "</table>\n"
            ]
          },
          "metadata": {}
        }
      ]
    },
    {
      "cell_type": "code",
      "source": [
        "# Menampilkan kolom pada DataFrame predictions untuk melihat nama kolom prediksi\n",
        "print(predictions.columns)"
      ],
      "metadata": {
        "colab": {
          "base_uri": "https://localhost:8080/"
        },
        "id": "8OAWQbx0hD5B",
        "outputId": "6f2aca2c-c6d5-44ec-9cb5-c89c90146768"
      },
      "execution_count": null,
      "outputs": [
        {
          "output_type": "stream",
          "name": "stdout",
          "text": [
            "Index(['Date', 'open', 'high', 'low', 'close', 'Volume', 'MA',\n",
            "       'prediction_label'],\n",
            "      dtype='object')\n"
          ]
        }
      ]
    },
    {
      "cell_type": "code",
      "source": [
        "# Memastikan kolom prediksi benar\n",
        "prediction_column = 'Label' if 'Label' in predictions.columns else 'prediction_label'  # Adjust this based on actual column name\n"
      ],
      "metadata": {
        "id": "vvp0PX_nhHLA"
      },
      "execution_count": null,
      "outputs": []
    },
    {
      "cell_type": "code",
      "source": [
        "# Menambahkan kolom prediksi ke DataFrame test_data\n",
        "test_data['MA_pred'] = predictions[prediction_column]"
      ],
      "metadata": {
        "id": "rQ3a7tQThILf"
      },
      "execution_count": null,
      "outputs": []
    },
    {
      "cell_type": "code",
      "source": [
        "# Membalikkan skala prediksi dan data asli\n",
        "test_data['MA_pred'] = scaler.inverse_transform(test_data[['MA_pred']])\n",
        "test_data['MA_actual'] = scaler.inverse_transform(test_data[['MA']])"
      ],
      "metadata": {
        "id": "0F51xAUqhJo5"
      },
      "execution_count": null,
      "outputs": []
    },
    {
      "cell_type": "code",
      "source": [
        "# Menghitung MAPE dan RMSE\n",
        "test_mape = mean_absolute_percentage_error(test_data['MA_actual'], test_data['MA_pred'])\n",
        "test_rmse = np.sqrt(mean_squared_error(test_data['MA_actual'], test_data['MA_pred']))\n",
        "\n",
        "print(f'Test MAPE: {test_mape}, Test RMSE: {test_rmse}')"
      ],
      "metadata": {
        "colab": {
          "base_uri": "https://localhost:8080/"
        },
        "id": "i40OzD1ChLTh",
        "outputId": "2a8d4f43-fb9d-423b-e302-b5dbd8edbd72"
      },
      "execution_count": null,
      "outputs": [
        {
          "output_type": "stream",
          "name": "stdout",
          "text": [
            "Test MAPE: 0.06198495295579613, Test RMSE: 48.17179389693024\n"
          ]
        }
      ]
    },
    {
      "cell_type": "code",
      "source": [
        "# Visualisasi hasil prediksi terhadap nilai asli\n",
        "plt.figure(figsize=(15, 6))\n",
        "plt.plot(test_data['Date'], test_data['MA_actual'], label='Data Asli')\n",
        "plt.plot(test_data['Date'], test_data['MA_pred'], label='Prediksi Pengujian')\n",
        "plt.xlabel('Date')\n",
        "plt.ylabel('Moving Average (MA)')\n",
        "plt.title('Prediksi Moving Average (MA) Menggunakan Model Terbaik dari PyCaret')\n",
        "plt.legend()\n",
        "plt.show()"
      ],
      "metadata": {
        "colab": {
          "base_uri": "https://localhost:8080/",
          "height": 427
        },
        "id": "Q1L2dWbShNxf",
        "outputId": "76092aa2-d73a-4cf2-a946-d0e674e03ca1"
      },
      "execution_count": null,
      "outputs": [
        {
          "output_type": "display_data",
          "data": {
            "text/plain": [
              "<Figure size 1500x600 with 1 Axes>"
            ],
            "image/png": "[encoded data removed]"
          },
          "metadata": {}
        }
      ]
    },
    {
      "cell_type": "code",
      "source": [
        "# Melihat parameter dari model yang telah dituning\n",
        "print(model)"
      ],
      "metadata": {
        "colab": {
          "base_uri": "https://localhost:8080/"
        },
        "id": "2g-CXrpqnKF5",
        "outputId": "5c216185-58d2-417a-f96c-2c3007536a84"
      },
      "execution_count": null,
      "outputs": [
        {
          "output_type": "stream",
          "name": "stdout",
          "text": [
            "ExtraTreesRegressor(n_jobs=-1, random_state=123)\n"
          ]
        }
      ]
    }
  ]
}